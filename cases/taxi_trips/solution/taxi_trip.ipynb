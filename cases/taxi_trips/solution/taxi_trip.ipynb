{
 "cells": [
  {
   "cell_type": "code",
   "execution_count": 1,
   "metadata": {},
   "outputs": [],
   "source": [
    "import pandas as pd"
   ]
  },
  {
   "cell_type": "code",
   "execution_count": 2,
   "metadata": {},
   "outputs": [],
   "source": [
    "df = pd.read_csv('taxi_nyc.csv')"
   ]
  },
  {
   "cell_type": "code",
   "execution_count": 3,
   "metadata": {},
   "outputs": [
    {
     "name": "stdout",
     "output_type": "stream",
     "text": [
      "0\n"
     ]
    }
   ],
   "source": [
    "first_index = df.index[0]\n",
    "print(first_index)"
   ]
  },
  {
   "cell_type": "code",
   "execution_count": 4,
   "metadata": {},
   "outputs": [
    {
     "name": "stdout",
     "output_type": "stream",
     "text": [
      "             pickup_dt pickup_month        borough  pickups hday  spd   vsb  \\\n",
      "0  2015-01-01 01:00:00          Jan          Bronx      152    Y  5.0  10.0   \n",
      "1  2015-01-01 01:00:00          Jan       Brooklyn     1519    Y  5.0  10.0   \n",
      "2  2015-01-01 01:00:00          Jan            EWR        0    Y  5.0  10.0   \n",
      "3  2015-01-01 01:00:00          Jan      Manhattan     5258    Y  5.0  10.0   \n",
      "4  2015-01-01 01:00:00          Jan         Queens      405    Y  5.0  10.0   \n",
      "5  2015-01-01 01:00:00          Jan  Staten Island        6    Y  5.0  10.0   \n",
      "6  2015-01-01 01:00:00          Jan            NaN        4    Y  5.0  10.0   \n",
      "7  2015-01-01 02:00:00          Jan          Bronx      120    Y  3.0  10.0   \n",
      "8  2015-01-01 02:00:00          Jan       Brooklyn     1229    Y  3.0  10.0   \n",
      "9  2015-01-01 02:00:00          Jan            EWR        0    Y  3.0  10.0   \n",
      "\n",
      "   temp  dewp     slp  pcp 01  pcp 06  pcp 24   sd  \n",
      "0  30.0   7.0  1023.5     0.0     0.0     0.0  0.0  \n",
      "1  30.0   7.0  1023.5     0.0     0.0     0.0  0.0  \n",
      "2  30.0   7.0  1023.5     0.0     0.0     0.0  0.0  \n",
      "3  30.0   7.0  1023.5     0.0     0.0     0.0  0.0  \n",
      "4  30.0   7.0  1023.5     0.0     0.0     0.0  0.0  \n",
      "5  30.0   7.0  1023.5     0.0     0.0     0.0  0.0  \n",
      "6  30.0   7.0  1023.5     0.0     0.0     0.0  0.0  \n",
      "7  30.0   6.0  1023.0     0.0     0.0     0.0  0.0  \n",
      "8  30.0   6.0  1023.0     0.0     0.0     0.0  0.0  \n",
      "9  30.0   6.0  1023.0     0.0     0.0     0.0  0.0  \n"
     ]
    }
   ],
   "source": [
    "print(df.head(10)) "
   ]
  },
  {
   "cell_type": "code",
   "execution_count": 5,
   "metadata": {},
   "outputs": [
    {
     "name": "stdout",
     "output_type": "stream",
     "text": [
      "29101 строк, 14 столбцов\n"
     ]
    }
   ],
   "source": [
    "rows, columns = df.shape  \n",
    "print(f\"{rows} строк, {columns} столбцов\")  "
   ]
  },
  {
   "cell_type": "code",
   "execution_count": 6,
   "metadata": {},
   "outputs": [
    {
     "name": "stdout",
     "output_type": "stream",
     "text": [
      "0    float64\n",
      "dtype: object\n"
     ]
    }
   ],
   "source": [
    "data_types = df.dtypes   \n",
    "dominant_type = data_types.mode()\n",
    "print(dominant_type)"
   ]
  },
  {
   "cell_type": "code",
   "execution_count": 7,
   "metadata": {},
   "outputs": [
    {
     "name": "stdout",
     "output_type": "stream",
     "text": [
      "Index(['pickup_dt', 'pickup_month', 'borough', 'pickups', 'hday', 'spd', 'vsb',\n",
      "       'temp', 'dewp', 'slp', 'pcp_01', 'pcp_06', 'pcp_24', 'sd'],\n",
      "      dtype='object')\n"
     ]
    }
   ],
   "source": [
    "df.rename(columns={  \n",
    "    'pcp 01': 'pcp_01',  \n",
    "    'pcp 06': 'pcp_06',  \n",
    "    'pcp 24': 'pcp_24'  \n",
    "}, inplace=True)  \n",
    "\n",
    "print(df.columns) "
   ]
  },
  {
   "cell_type": "code",
   "execution_count": 8,
   "metadata": {},
   "outputs": [
    {
     "name": "stdout",
     "output_type": "stream",
     "text": [
      "Район Манхэттен встречается: 4343 раз(а).\n"
     ]
    }
   ],
   "source": [
    "borough_counts = df['borough'].value_counts()\n",
    "manhattan_count = borough_counts.get('Manhattan', 0)  \n",
    "print(f'Район Манхэттен встречается: {manhattan_count} раз(а).')  "
   ]
  },
  {
   "cell_type": "code",
   "execution_count": 9,
   "metadata": {},
   "outputs": [
    {
     "name": "stdout",
     "output_type": "stream",
     "text": [
      "14265773\n"
     ]
    }
   ],
   "source": [
    "total_pickups = df['pickups'].sum()\n",
    "print(total_pickups)"
   ]
  },
  {
   "cell_type": "code",
   "execution_count": 10,
   "metadata": {},
   "outputs": [
    {
     "name": "stdout",
     "output_type": "stream",
     "text": [
      "Район с наибольшим количеством поездок: Manhattan\n"
     ]
    }
   ],
   "source": [
    "grouped_data = df.groupby('borough')['pickups'].sum()  \n",
    "max_borough = grouped_data.idxmax()  \n",
    "max_pickups = grouped_data.max()  \n",
    "print(f'Район с наибольшим количеством поездок: {max_borough}')"
   ]
  },
  {
   "cell_type": "code",
   "execution_count": 11,
   "metadata": {},
   "outputs": [
    {
     "name": "stdout",
     "output_type": "stream",
     "text": [
      "Район с наименьшим количеством поездок: EWR\n"
     ]
    }
   ],
   "source": [
    "grouped_data = df.groupby('borough')['pickups'].sum()\n",
    "min_borough_index = grouped_data.idxmin()  \n",
    "min_pickups = grouped_data.min() \n",
    "print(f'Район с наименьшим количеством поездок: {min_borough_index}')"
   ]
  },
  {
   "cell_type": "code",
   "execution_count": 12,
   "metadata": {},
   "outputs": [
    {
     "data": {
      "text/plain": [
       "array(['Bronx', 'Brooklyn', 'EWR', 'Manhattan', 'Queens', 'Staten Island',\n",
       "       nan], dtype=object)"
      ]
     },
     "execution_count": 12,
     "metadata": {},
     "output_type": "execute_result"
    }
   ],
   "source": [
    " df['borough'].unique()\n"
   ]
  },
  {
   "cell_type": "code",
   "execution_count": 13,
   "metadata": {},
   "outputs": [
    {
     "data": {
      "text/plain": [
       "'EWR'"
      ]
     },
     "execution_count": 13,
     "metadata": {},
     "output_type": "execute_result"
    }
   ],
   "source": [
    "grouped_data = df.groupby('borough')['pickups'].sum()  \n",
    "min_borough_index = grouped_data.idxmin()  \n",
    "min_pickups = grouped_data.min() \n",
    "min_borough_index"
   ]
  },
  {
   "cell_type": "code",
   "execution_count": 14,
   "metadata": {},
   "outputs": [
    {
     "name": "stdout",
     "output_type": "stream",
     "text": [
      "Районы с большим количеством заказов в выходные дни:\n",
      "Series([], Name: pickups, dtype: float64)\n"
     ]
    }
   ],
   "source": [
    "\n",
    "# Преобразование столбца pickup_dt в формат datetime  \n",
    "df['pickup_dt'] = pd.to_datetime(df['pickup_dt'])  \n",
    "\n",
    "# Добавление столбца с днем недели  \n",
    "df['day_of_week'] = df['pickup_dt'].dt.dayofweek  # 0 - понедельник, 6 - воскресенье  \n",
    "\n",
    "# Условие для выходных (5 - суббота, 6 - воскресенье) и обычных дней (например, 0 - понедельник)  \n",
    "weekend = df[df['day_of_week'].isin([5, 6])]  \n",
    "weekdays = df[df['day_of_week'].isin([0, 1, 2, 3, 4])]  # Понедельник до Пятницы  \n",
    "\n",
    "# Группировка данных по району и подсчет заказов  \n",
    "weekend_orders = weekend.groupby('borough')['pickups'].sum()  \n",
    "weekday_orders = weekdays.groupby('borough')['pickups'].sum()  \n",
    "\n",
    "# Подсчет среднего числа заказов  \n",
    "avg_weekend_orders = weekend_orders / weekend['borough'].nunique()  # Среднее для выходных  \n",
    "avg_weekday_orders = weekday_orders / weekdays['borough'].nunique()  # Среднее для обычных дней  \n",
    "\n",
    "# Сравнение и выбор районов с большим количеством заказов в выходные  \n",
    "higher_orders = avg_weekend_orders[avg_weekend_orders > avg_weekday_orders]  \n",
    "\n",
    "print(\"Районы с большим количеством заказов в выходные дни:\")  \n",
    "print(higher_orders)  "
   ]
  },
  {
   "cell_type": "code",
   "execution_count": 15,
   "metadata": {},
   "outputs": [
    {
     "name": "stdout",
     "output_type": "stream",
     "text": [
      "Index(['pickup_dt', 'pickup_month', 'borough', 'pickups', 'hday', 'spd', 'vsb',\n",
      "       'temp', 'dewp', 'slp', 'pcp_01', 'pcp_06', 'pcp_24', 'sd',\n",
      "       'day_of_week'],\n",
      "      dtype='object')\n"
     ]
    }
   ],
   "source": [
    "print(df.columns)  "
   ]
  },
  {
   "cell_type": "code",
   "execution_count": 16,
   "metadata": {},
   "outputs": [
    {
     "data": {
      "text/plain": [
       "(29101, 15)"
      ]
     },
     "execution_count": 16,
     "metadata": {},
     "output_type": "execute_result"
    }
   ],
   "source": [
    "df.shape"
   ]
  },
  {
   "cell_type": "code",
   "execution_count": 17,
   "metadata": {},
   "outputs": [
    {
     "data": {
      "text/plain": [
       "Index(['pickup_dt', 'pickup_month', 'borough', 'pickups', 'hday', 'spd', 'vsb',\n",
       "       'temp', 'dewp', 'slp', 'pcp_01', 'pcp_06', 'pcp_24', 'sd',\n",
       "       'day_of_week'],\n",
       "      dtype='object')"
      ]
     },
     "execution_count": 17,
     "metadata": {},
     "output_type": "execute_result"
    }
   ],
   "source": [
    "df.columns"
   ]
  },
  {
   "cell_type": "code",
   "execution_count": 18,
   "metadata": {},
   "outputs": [
    {
     "data": {
      "text/html": [
       "<div>\n",
       "<style scoped>\n",
       "    .dataframe tbody tr th:only-of-type {\n",
       "        vertical-align: middle;\n",
       "    }\n",
       "\n",
       "    .dataframe tbody tr th {\n",
       "        vertical-align: top;\n",
       "    }\n",
       "\n",
       "    .dataframe thead th {\n",
       "        text-align: right;\n",
       "    }\n",
       "</style>\n",
       "<table border=\"1\" class=\"dataframe\">\n",
       "  <thead>\n",
       "    <tr style=\"text-align: right;\">\n",
       "      <th></th>\n",
       "      <th>pickup_month</th>\n",
       "      <th>pickups</th>\n",
       "    </tr>\n",
       "  </thead>\n",
       "  <tbody>\n",
       "    <tr>\n",
       "      <th>0</th>\n",
       "      <td>Jan</td>\n",
       "      <td>152</td>\n",
       "    </tr>\n",
       "    <tr>\n",
       "      <th>1</th>\n",
       "      <td>Jan</td>\n",
       "      <td>1519</td>\n",
       "    </tr>\n",
       "    <tr>\n",
       "      <th>2</th>\n",
       "      <td>Jan</td>\n",
       "      <td>0</td>\n",
       "    </tr>\n",
       "    <tr>\n",
       "      <th>3</th>\n",
       "      <td>Jan</td>\n",
       "      <td>5258</td>\n",
       "    </tr>\n",
       "    <tr>\n",
       "      <th>4</th>\n",
       "      <td>Jan</td>\n",
       "      <td>405</td>\n",
       "    </tr>\n",
       "  </tbody>\n",
       "</table>\n",
       "</div>"
      ],
      "text/plain": [
       "  pickup_month  pickups\n",
       "0          Jan      152\n",
       "1          Jan     1519\n",
       "2          Jan        0\n",
       "3          Jan     5258\n",
       "4          Jan      405"
      ]
     },
     "execution_count": 18,
     "metadata": {},
     "output_type": "execute_result"
    }
   ],
   "source": [
    "df[['pickup_month', 'pickups']].head()"
   ]
  },
  {
   "cell_type": "code",
   "execution_count": 19,
   "metadata": {},
   "outputs": [],
   "source": [
    "pickups_by_mndt = df \\\n",
    "    .groupby(['pickup_month', 'pickup_dt'], as_index=False) \\\n",
    "    .aggregate({'pickups': 'sum'}) \\\n",
    "    .sort_values('pickups', ascending=False)"
   ]
  },
  {
   "cell_type": "code",
   "execution_count": 20,
   "metadata": {},
   "outputs": [],
   "source": [
    "pickups_by_mndt.to_csv('pickups_by_mndt.csv', index=False)"
   ]
  },
  {
   "cell_type": "code",
   "execution_count": 21,
   "metadata": {},
   "outputs": [
    {
     "data": {
      "text/plain": [
       "Index(['pickup_dt', 'pickup_month', 'borough', 'pickups', 'hday', 'spd', 'vsb',\n",
       "       'temp', 'dewp', 'slp', 'pcp_01', 'pcp_06', 'pcp_24', 'sd',\n",
       "       'day_of_week'],\n",
       "      dtype='object')"
      ]
     },
     "execution_count": 21,
     "metadata": {},
     "output_type": "execute_result"
    }
   ],
   "source": [
    "df.columns"
   ]
  },
  {
   "cell_type": "code",
   "execution_count": 22,
   "metadata": {},
   "outputs": [
    {
     "name": "stdout",
     "output_type": "stream",
     "text": [
      "Среднее количество заказов в праздничные дни по районам:\n",
      "borough\n",
      "Bronx              48.065868\n",
      "Brooklyn          527.011976\n",
      "EWR                 0.041916\n",
      "Manhattan        2035.928144\n",
      "Queens            320.730539\n",
      "Staten Island       1.497006\n",
      "Name: pickups, dtype: float64\n"
     ]
    }
   ],
   "source": [
    "holiday_df = df[df['hday'] == 'Y']    \n",
    "mean_pickups_by_borough = holiday_df.groupby('borough')['pickups'].mean()  \n",
    "print(\"Среднее количество заказов в праздничные дни по районам:\")  \n",
    "print(mean_pickups_by_borough)  \n"
   ]
  },
  {
   "cell_type": "code",
   "execution_count": 24,
   "metadata": {},
   "outputs": [],
   "source": [
    "result = df.groupby('borough')['pickups'].sum().reset_index()"
   ]
  },
  {
   "cell_type": "code",
   "execution_count": 25,
   "metadata": {},
   "outputs": [
    {
     "data": {
      "text/html": [
       "<div>\n",
       "<style scoped>\n",
       "    .dataframe tbody tr th:only-of-type {\n",
       "        vertical-align: middle;\n",
       "    }\n",
       "\n",
       "    .dataframe tbody tr th {\n",
       "        vertical-align: top;\n",
       "    }\n",
       "\n",
       "    .dataframe thead th {\n",
       "        text-align: right;\n",
       "    }\n",
       "</style>\n",
       "<table border=\"1\" class=\"dataframe\">\n",
       "  <thead>\n",
       "    <tr style=\"text-align: right;\">\n",
       "      <th></th>\n",
       "      <th>borough</th>\n",
       "      <th>pickups</th>\n",
       "    </tr>\n",
       "  </thead>\n",
       "  <tbody>\n",
       "    <tr>\n",
       "      <th>0</th>\n",
       "      <td>Bronx</td>\n",
       "      <td>220047</td>\n",
       "    </tr>\n",
       "    <tr>\n",
       "      <th>1</th>\n",
       "      <td>Brooklyn</td>\n",
       "      <td>2321035</td>\n",
       "    </tr>\n",
       "    <tr>\n",
       "      <th>2</th>\n",
       "      <td>EWR</td>\n",
       "      <td>105</td>\n",
       "    </tr>\n",
       "    <tr>\n",
       "      <th>3</th>\n",
       "      <td>Manhattan</td>\n",
       "      <td>10367841</td>\n",
       "    </tr>\n",
       "    <tr>\n",
       "      <th>4</th>\n",
       "      <td>Queens</td>\n",
       "      <td>1343528</td>\n",
       "    </tr>\n",
       "    <tr>\n",
       "      <th>5</th>\n",
       "      <td>Staten Island</td>\n",
       "      <td>6957</td>\n",
       "    </tr>\n",
       "  </tbody>\n",
       "</table>\n",
       "</div>"
      ],
      "text/plain": [
       "         borough   pickups\n",
       "0          Bronx    220047\n",
       "1       Brooklyn   2321035\n",
       "2            EWR       105\n",
       "3      Manhattan  10367841\n",
       "4         Queens   1343528\n",
       "5  Staten Island      6957"
      ]
     },
     "execution_count": 25,
     "metadata": {},
     "output_type": "execute_result"
    }
   ],
   "source": [
    "result"
   ]
  },
  {
   "cell_type": "code",
   "execution_count": 27,
   "metadata": {},
   "outputs": [
    {
     "name": "stdout",
     "output_type": "stream",
     "text": [
      "          borough pickup_month  pickups\n",
      "21      Manhattan          Jun  1995388\n",
      "23      Manhattan          May  1888800\n",
      "19      Manhattan          Feb  1718571\n",
      "22      Manhattan          Mar  1661261\n",
      "18      Manhattan          Apr  1648278\n",
      "20      Manhattan          Jan  1455543\n",
      "9        Brooklyn          Jun   482466\n",
      "11       Brooklyn          May   476087\n",
      "6        Brooklyn          Apr   378095\n",
      "10       Brooklyn          Mar   346726\n",
      "7        Brooklyn          Feb   328650\n",
      "8        Brooklyn          Jan   309011\n",
      "27         Queens          Jun   286311\n",
      "29         Queens          May   275893\n",
      "28         Queens          Mar   219561\n",
      "24         Queens          Apr   216857\n",
      "25         Queens          Feb   185695\n",
      "26         Queens          Jan   159211\n",
      "5           Bronx          May    53037\n",
      "3           Bronx          Jun    49006\n",
      "0           Bronx          Apr    34617\n",
      "4           Bronx          Mar    32232\n",
      "1           Bronx          Feb    28694\n",
      "2           Bronx          Jan    22461\n",
      "33  Staten Island          Jun     1673\n",
      "35  Staten Island          May     1517\n",
      "30  Staten Island          Apr     1068\n",
      "34  Staten Island          Mar      975\n",
      "31  Staten Island          Feb      903\n",
      "32  Staten Island          Jan      821\n",
      "15            EWR          Jun       29\n",
      "17            EWR          May       27\n",
      "16            EWR          Mar       14\n",
      "13            EWR          Feb       14\n",
      "14            EWR          Jan       11\n",
      "12            EWR          Apr       10\n",
      "(36, 3)\n"
     ]
    }
   ],
   "source": [
    "pickups_all = df.groupby(['borough', 'pickup_month'])['pickups'].sum().reset_index()  \n",
    "pickups_by_mon_bor = pickups_all.sort_values(by='pickups', ascending=False)  \n",
    "print(pickups_by_mon_bor)  \n",
    "print(pickups_by_mon_bor.shape) "
   ]
  },
  {
   "cell_type": "code",
   "execution_count": null,
   "metadata": {},
   "outputs": [],
   "source": []
  },
  {
   "cell_type": "code",
   "execution_count": null,
   "metadata": {},
   "outputs": [],
   "source": []
  },
  {
   "cell_type": "code",
   "execution_count": null,
   "metadata": {},
   "outputs": [],
   "source": []
  }
 ],
 "metadata": {
  "kernelspec": {
   "display_name": "Python 3",
   "language": "python",
   "name": "python3"
  },
  "language_info": {
   "codemirror_mode": {
    "name": "ipython",
    "version": 3
   },
   "file_extension": ".py",
   "mimetype": "text/x-python",
   "name": "python",
   "nbconvert_exporter": "python",
   "pygments_lexer": "ipython3",
   "version": "3.7.3"
  }
 },
 "nbformat": 4,
 "nbformat_minor": 4
}
