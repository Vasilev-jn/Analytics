{
 "cells": [
  {
   "cell_type": "code",
   "execution_count": 38,
   "metadata": {},
   "outputs": [],
   "source": [
    "# Импорт библиотек\n",
    "import pandas as pd\n",
    "import matplotlib.pyplot as plt\n",
    "import seaborn as sns\n",
    "\n",
    "%matplotlib inline"
   ]
  },
  {
   "cell_type": "code",
   "execution_count": 39,
   "metadata": {},
   "outputs": [
    {
     "data": {
      "text/html": [
       "<div>\n",
       "<style scoped>\n",
       "    .dataframe tbody tr th:only-of-type {\n",
       "        vertical-align: middle;\n",
       "    }\n",
       "\n",
       "    .dataframe tbody tr th {\n",
       "        vertical-align: top;\n",
       "    }\n",
       "\n",
       "    .dataframe thead th {\n",
       "        text-align: right;\n",
       "    }\n",
       "</style>\n",
       "<table border=\"1\" class=\"dataframe\">\n",
       "  <thead>\n",
       "    <tr style=\"text-align: right;\">\n",
       "      <th></th>\n",
       "      <th>journey_id</th>\n",
       "      <th>user_id</th>\n",
       "      <th>start_type</th>\n",
       "      <th>start_lat</th>\n",
       "      <th>start_lon</th>\n",
       "      <th>source</th>\n",
       "      <th>driver_score</th>\n",
       "      <th>driver_id</th>\n",
       "      <th>taxi_id</th>\n",
       "      <th>icon</th>\n",
       "      <th>start_at</th>\n",
       "      <th>end_at</th>\n",
       "      <th>end_lat</th>\n",
       "      <th>end_lon</th>\n",
       "      <th>end_state</th>\n",
       "      <th>driver_start_lat</th>\n",
       "      <th>driver_start_lon</th>\n",
       "      <th>arrived_at</th>\n",
       "      <th>rider_score</th>\n",
       "    </tr>\n",
       "  </thead>\n",
       "  <tbody>\n",
       "    <tr>\n",
       "      <th>0</th>\n",
       "      <td>23a1406fc6a11d866e3c82f22eed4d4c</td>\n",
       "      <td>0e9af5bbf1edfe591b54ecdfd7e91e26</td>\n",
       "      <td>asap</td>\n",
       "      <td>-12,13983536</td>\n",
       "      <td>-77,02355957</td>\n",
       "      <td>iPhone</td>\n",
       "      <td>5.0</td>\n",
       "      <td>583949a89a9ee17d19e3ca4f137b6b4c</td>\n",
       "      <td>b12f4f09c783e29fe0d0ea624530db56</td>\n",
       "      <td>executive</td>\n",
       "      <td>2010-11-16 16:44:00</td>\n",
       "      <td>2010-11-16 17:29:00</td>\n",
       "      <td>-12,05537033</td>\n",
       "      <td>-77,0413208</td>\n",
       "      <td>drop off</td>\n",
       "      <td>-12,10825481</td>\n",
       "      <td>-77,0272739</td>\n",
       "      <td>2010-11-16 17:02:00</td>\n",
       "      <td>5.0</td>\n",
       "    </tr>\n",
       "    <tr>\n",
       "      <th>1</th>\n",
       "      <td>dd2af4715d0dc16eded53afc0e243577</td>\n",
       "      <td>a553c46e3a22fb9c326aeb3d72b3334e</td>\n",
       "      <td>asap</td>\n",
       "      <td>-12,13874817</td>\n",
       "      <td>-76,99536133</td>\n",
       "      <td>iPhone</td>\n",
       "      <td>NaN</td>\n",
       "      <td>NaN</td>\n",
       "      <td>NaN</td>\n",
       "      <td>executive</td>\n",
       "      <td>2010-06-01 00:34:00</td>\n",
       "      <td>2010-06-01 00:37:00</td>\n",
       "      <td>-12,12465668</td>\n",
       "      <td>-77,02886963</td>\n",
       "      <td>not found</td>\n",
       "      <td>NaN</td>\n",
       "      <td>NaN</td>\n",
       "      <td>NaN</td>\n",
       "      <td>NaN</td>\n",
       "    </tr>\n",
       "    <tr>\n",
       "      <th>2</th>\n",
       "      <td>dd91e131888064bf7df3ce08f3d4b4ad</td>\n",
       "      <td>a553c46e3a22fb9c326aeb3d72b3334e</td>\n",
       "      <td>asap</td>\n",
       "      <td>-12,12453079</td>\n",
       "      <td>-77,02780151</td>\n",
       "      <td>iPhone</td>\n",
       "      <td>NaN</td>\n",
       "      <td>NaN</td>\n",
       "      <td>NaN</td>\n",
       "      <td>executive</td>\n",
       "      <td>2010-05-31 05:01:00</td>\n",
       "      <td>2010-05-31 05:04:00</td>\n",
       "      <td>-12,13883209</td>\n",
       "      <td>-76,99530029</td>\n",
       "      <td>not found</td>\n",
       "      <td>NaN</td>\n",
       "      <td>NaN</td>\n",
       "      <td>NaN</td>\n",
       "      <td>NaN</td>\n",
       "    </tr>\n",
       "    <tr>\n",
       "      <th>3</th>\n",
       "      <td>dd2af4715d0dc16eded53afc0e2466d0</td>\n",
       "      <td>a553c46e3a22fb9c326aeb3d72b3334e</td>\n",
       "      <td>asap</td>\n",
       "      <td>-12,13885117</td>\n",
       "      <td>-76,99530029</td>\n",
       "      <td>iPhone</td>\n",
       "      <td>NaN</td>\n",
       "      <td>NaN</td>\n",
       "      <td>NaN</td>\n",
       "      <td>executive</td>\n",
       "      <td>2010-06-01 00:29:00</td>\n",
       "      <td>2010-06-01 00:32:00</td>\n",
       "      <td>-12,12458801</td>\n",
       "      <td>-77,02896118</td>\n",
       "      <td>not found</td>\n",
       "      <td>NaN</td>\n",
       "      <td>NaN</td>\n",
       "      <td>NaN</td>\n",
       "      <td>NaN</td>\n",
       "    </tr>\n",
       "    <tr>\n",
       "      <th>4</th>\n",
       "      <td>85b7eabcf5d84e42dc7629b7d27781af</td>\n",
       "      <td>56772d544fdfa589a020a1ff894a86f7</td>\n",
       "      <td>reserved</td>\n",
       "      <td>-12,08995438</td>\n",
       "      <td>-76,92626953</td>\n",
       "      <td>iPhone</td>\n",
       "      <td>4.0</td>\n",
       "      <td>d665fb9f75ef5d9cd0fd89479380ba78</td>\n",
       "      <td>0accdd3aa5a322f4129fa20b53278c69</td>\n",
       "      <td>executive</td>\n",
       "      <td>2010-09-11 23:55:00</td>\n",
       "      <td>2010-09-12 01:07:00</td>\n",
       "      <td>-12,02223206</td>\n",
       "      <td>-77,10638428</td>\n",
       "      <td>drop off</td>\n",
       "      <td>-12,08311558</td>\n",
       "      <td>-76,9277072</td>\n",
       "      <td>2010-09-11 23:50:00</td>\n",
       "      <td>5.0</td>\n",
       "    </tr>\n",
       "  </tbody>\n",
       "</table>\n",
       "</div>"
      ],
      "text/plain": [
       "                         journey_id                           user_id  \\\n",
       "0  23a1406fc6a11d866e3c82f22eed4d4c  0e9af5bbf1edfe591b54ecdfd7e91e26   \n",
       "1  dd2af4715d0dc16eded53afc0e243577  a553c46e3a22fb9c326aeb3d72b3334e   \n",
       "2  dd91e131888064bf7df3ce08f3d4b4ad  a553c46e3a22fb9c326aeb3d72b3334e   \n",
       "3  dd2af4715d0dc16eded53afc0e2466d0  a553c46e3a22fb9c326aeb3d72b3334e   \n",
       "4  85b7eabcf5d84e42dc7629b7d27781af  56772d544fdfa589a020a1ff894a86f7   \n",
       "\n",
       "  start_type     start_lat     start_lon  source  driver_score  \\\n",
       "0       asap  -12,13983536  -77,02355957  iPhone           5.0   \n",
       "1       asap  -12,13874817  -76,99536133  iPhone           NaN   \n",
       "2       asap  -12,12453079  -77,02780151  iPhone           NaN   \n",
       "3       asap  -12,13885117  -76,99530029  iPhone           NaN   \n",
       "4   reserved  -12,08995438  -76,92626953  iPhone           4.0   \n",
       "\n",
       "                          driver_id                           taxi_id  \\\n",
       "0  583949a89a9ee17d19e3ca4f137b6b4c  b12f4f09c783e29fe0d0ea624530db56   \n",
       "1                               NaN                               NaN   \n",
       "2                               NaN                               NaN   \n",
       "3                               NaN                               NaN   \n",
       "4  d665fb9f75ef5d9cd0fd89479380ba78  0accdd3aa5a322f4129fa20b53278c69   \n",
       "\n",
       "        icon             start_at               end_at       end_lat  \\\n",
       "0  executive  2010-11-16 16:44:00  2010-11-16 17:29:00  -12,05537033   \n",
       "1  executive  2010-06-01 00:34:00  2010-06-01 00:37:00  -12,12465668   \n",
       "2  executive  2010-05-31 05:01:00  2010-05-31 05:04:00  -12,13883209   \n",
       "3  executive  2010-06-01 00:29:00  2010-06-01 00:32:00  -12,12458801   \n",
       "4  executive  2010-09-11 23:55:00  2010-09-12 01:07:00  -12,02223206   \n",
       "\n",
       "        end_lon  end_state driver_start_lat driver_start_lon  \\\n",
       "0   -77,0413208   drop off     -12,10825481      -77,0272739   \n",
       "1  -77,02886963  not found              NaN              NaN   \n",
       "2  -76,99530029  not found              NaN              NaN   \n",
       "3  -77,02896118  not found              NaN              NaN   \n",
       "4  -77,10638428   drop off     -12,08311558      -76,9277072   \n",
       "\n",
       "            arrived_at  rider_score  \n",
       "0  2010-11-16 17:02:00          5.0  \n",
       "1                  NaN          NaN  \n",
       "2                  NaN          NaN  \n",
       "3                  NaN          NaN  \n",
       "4  2010-09-11 23:50:00          5.0  "
      ]
     },
     "execution_count": 39,
     "metadata": {},
     "output_type": "execute_result"
    }
   ],
   "source": [
    "# Загрузка и объединение данных\n",
    "passengers = pd.read_csv('passengers.csv')\n",
    "drivers = pd.read_csv('drivers.csv')\n",
    "taxi_2 = pd.read_csv('taxi_2.csv')\n",
    "\n",
    "merged_drivers_passengers = pd.merge(passengers, drivers, on='journey_id', how='inner')\n",
    "taxi = pd.concat([merged_drivers_passengers, taxi_2], ignore_index=True)\n",
    "taxi.head()"
   ]
  },
  {
   "cell_type": "code",
   "execution_count": 40,
   "metadata": {},
   "outputs": [
    {
     "name": "stdout",
     "output_type": "stream",
     "text": [
      "<class 'pandas.core.frame.DataFrame'>\n",
      "RangeIndex: 11555 entries, 0 to 11554\n",
      "Data columns (total 19 columns):\n",
      " #   Column            Non-Null Count  Dtype  \n",
      "---  ------            --------------  -----  \n",
      " 0   journey_id        11555 non-null  object \n",
      " 1   user_id           11555 non-null  object \n",
      " 2   start_type        11555 non-null  object \n",
      " 3   start_lat         11555 non-null  object \n",
      " 4   start_lon         11555 non-null  object \n",
      " 5   source            11500 non-null  object \n",
      " 6   driver_score      3151 non-null   float64\n",
      " 7   driver_id         8170 non-null   object \n",
      " 8   taxi_id           8170 non-null   object \n",
      " 9   icon              11555 non-null  object \n",
      " 10  start_at          11555 non-null  object \n",
      " 11  end_at            11284 non-null  object \n",
      " 12  end_lat           11555 non-null  object \n",
      " 13  end_lon           11555 non-null  object \n",
      " 14  end_state         11543 non-null  object \n",
      " 15  driver_start_lat  8164 non-null   object \n",
      " 16  driver_start_lon  8164 non-null   object \n",
      " 17  arrived_at        7380 non-null   object \n",
      " 18  rider_score       6414 non-null   float64\n",
      "dtypes: float64(2), object(17)\n",
      "memory usage: 1.7+ MB\n"
     ]
    }
   ],
   "source": [
    "# Анализ типов данных\n",
    "data_types = merged_drivers_passengers.dtypes\n",
    "merged_drivers_passengers.info()"
   ]
  },
  {
   "cell_type": "code",
   "execution_count": 41,
   "metadata": {},
   "outputs": [
    {
     "data": {
      "text/plain": [
       "5"
      ]
     },
     "execution_count": 41,
     "metadata": {},
     "output_type": "execute_result"
    }
   ],
   "source": [
    "# Анализ источников заказов\n",
    "counts_source = taxi['source'].nunique()\n",
    "counts_source"
   ]
  },
  {
   "cell_type": "code",
   "execution_count": 42,
   "metadata": {},
   "outputs": [
    {
     "data": {
      "text/plain": [
       "np.float64(42.0)"
      ]
     },
     "execution_count": 42,
     "metadata": {},
     "output_type": "execute_result"
    }
   ],
   "source": [
    "# Анализ распределения заказов по платформам\n",
    "counts_per_source = taxi.groupby('source')['journey_id'].nunique()\n",
    "max_count = counts_per_source.max()\n",
    "total_trips = counts_per_source.sum()\n",
    "max_source_percente = (max_count / total_trips) * 100\n",
    "max_source_percente.round()"
   ]
  },
  {
   "cell_type": "code",
   "execution_count": 43,
   "metadata": {},
   "outputs": [
    {
     "data": {
      "text/plain": [
       "source\n",
       "iPhone     9741\n",
       "web        7631\n",
       "Android    4909\n",
       "iPad        571\n",
       "Wap         136\n",
       "Name: journey_id, dtype: int64"
      ]
     },
     "execution_count": 43,
     "metadata": {},
     "output_type": "execute_result"
    }
   ],
   "source": [
    "# Визуализация распределения заказов по платформам\n",
    "platforms = taxi.groupby('source')['journey_id'].nunique().sort_values(ascending=False)\n",
    "platforms"
   ]
  },
  {
   "cell_type": "code",
   "execution_count": 44,
   "metadata": {},
   "outputs": [
    {
     "data": {
      "image/png": "[encoded data removed]",
      "text/plain": [
       "<Figure size 640x480 with 1 Axes>"
      ]
     },
     "metadata": {},
     "output_type": "display_data"
    }
   ],
   "source": [
    "\n",
    "plt.bar(platforms.index, platforms.values)\n",
    "\n",
    "plt.xlabel('Платформа')\n",
    "plt.ylabel('Количество заказов')\n",
    "plt.title('Количество заказов по платформам')\n",
    "\n",
    "plt.show()"
   ]
  },
  {
   "cell_type": "code",
   "execution_count": 8,
   "metadata": {},
   "outputs": [
    {
     "data": {
      "image/png": "[encoded data removed]",
      "text/plain": [
       "<Figure size 1200x800 with 1 Axes>"
      ]
     },
     "metadata": {},
     "output_type": "display_data"
    }
   ],
   "source": [
    "plt.figure(figsize=(12, 8))\n",
    "sns.countplot(data=merged_drivers_passengers, x='end_state', hue='source')\n",
    "plt.show()"
   ]
  },
  {
   "cell_type": "code",
   "execution_count": 45,
   "metadata": {},
   "outputs": [
    {
     "data": {
      "text/html": [
       "<div>\n",
       "<style scoped>\n",
       "    .dataframe tbody tr th:only-of-type {\n",
       "        vertical-align: middle;\n",
       "    }\n",
       "\n",
       "    .dataframe tbody tr th {\n",
       "        vertical-align: top;\n",
       "    }\n",
       "\n",
       "    .dataframe thead th {\n",
       "        text-align: right;\n",
       "    }\n",
       "</style>\n",
       "<table border=\"1\" class=\"dataframe\">\n",
       "  <thead>\n",
       "    <tr style=\"text-align: right;\">\n",
       "      <th></th>\n",
       "      <th>driver_score</th>\n",
       "      <th>percentage</th>\n",
       "    </tr>\n",
       "  </thead>\n",
       "  <tbody>\n",
       "    <tr>\n",
       "      <th>0</th>\n",
       "      <td>5.0</td>\n",
       "      <td>58.81</td>\n",
       "    </tr>\n",
       "    <tr>\n",
       "      <th>1</th>\n",
       "      <td>4.0</td>\n",
       "      <td>21.88</td>\n",
       "    </tr>\n",
       "    <tr>\n",
       "      <th>2</th>\n",
       "      <td>0.0</td>\n",
       "      <td>14.30</td>\n",
       "    </tr>\n",
       "    <tr>\n",
       "      <th>3</th>\n",
       "      <td>3.0</td>\n",
       "      <td>2.97</td>\n",
       "    </tr>\n",
       "    <tr>\n",
       "      <th>4</th>\n",
       "      <td>1.0</td>\n",
       "      <td>1.23</td>\n",
       "    </tr>\n",
       "    <tr>\n",
       "      <th>5</th>\n",
       "      <td>2.0</td>\n",
       "      <td>0.81</td>\n",
       "    </tr>\n",
       "  </tbody>\n",
       "</table>\n",
       "</div>"
      ],
      "text/plain": [
       "   driver_score  percentage\n",
       "0           5.0       58.81\n",
       "1           4.0       21.88\n",
       "2           0.0       14.30\n",
       "3           3.0        2.97\n",
       "4           1.0        1.23\n",
       "5           2.0        0.81"
      ]
     },
     "execution_count": 45,
     "metadata": {},
     "output_type": "execute_result"
    }
   ],
   "source": [
    "# Анализ оценок водителей\n",
    "driver_score_counts = (\n",
    "    taxi.driver_score\n",
    "        .value_counts(normalize=True)\n",
    "        .mul(100)\n",
    "        .round(2)\n",
    "        .reset_index()\n",
    ")\n",
    "driver_score_counts.columns = ['driver_score', 'percentage']\n",
    "driver_score_counts = driver_score_counts.sort_values('percentage', ascending=False)\n",
    "\n",
    "driver_score_counts"
   ]
  },
  {
   "cell_type": "code",
   "execution_count": 46,
   "metadata": {},
   "outputs": [
    {
     "data": {
      "image/png": "[encoded data removed]",
      "text/plain": [
       "<Figure size 800x800 with 1 Axes>"
      ]
     },
     "metadata": {},
     "output_type": "display_data"
    }
   ],
   "source": [
    "plt.figure(figsize = (8, 8))\n",
    "plt.pie(driver_score_counts['percentage'],\n",
    "        startangle = 90,\n",
    "        labels = driver_score_counts['driver_score'],\n",
    "        rotatelabels=True);"
   ]
  },
  {
   "cell_type": "code",
   "execution_count": 47,
   "metadata": {},
   "outputs": [
    {
     "data": {
      "text/html": [
       "<div>\n",
       "<style scoped>\n",
       "    .dataframe tbody tr th:only-of-type {\n",
       "        vertical-align: middle;\n",
       "    }\n",
       "\n",
       "    .dataframe tbody tr th {\n",
       "        vertical-align: top;\n",
       "    }\n",
       "\n",
       "    .dataframe thead th {\n",
       "        text-align: right;\n",
       "    }\n",
       "</style>\n",
       "<table border=\"1\" class=\"dataframe\">\n",
       "  <thead>\n",
       "    <tr style=\"text-align: right;\">\n",
       "      <th></th>\n",
       "      <th>rider_score</th>\n",
       "      <th>percentage</th>\n",
       "    </tr>\n",
       "  </thead>\n",
       "  <tbody>\n",
       "    <tr>\n",
       "      <th>0</th>\n",
       "      <td>5.0</td>\n",
       "      <td>87.10</td>\n",
       "    </tr>\n",
       "    <tr>\n",
       "      <th>1</th>\n",
       "      <td>4.0</td>\n",
       "      <td>8.83</td>\n",
       "    </tr>\n",
       "    <tr>\n",
       "      <th>2</th>\n",
       "      <td>0.0</td>\n",
       "      <td>2.29</td>\n",
       "    </tr>\n",
       "    <tr>\n",
       "      <th>3</th>\n",
       "      <td>3.0</td>\n",
       "      <td>1.38</td>\n",
       "    </tr>\n",
       "    <tr>\n",
       "      <th>4</th>\n",
       "      <td>1.0</td>\n",
       "      <td>0.21</td>\n",
       "    </tr>\n",
       "    <tr>\n",
       "      <th>5</th>\n",
       "      <td>2.0</td>\n",
       "      <td>0.19</td>\n",
       "    </tr>\n",
       "  </tbody>\n",
       "</table>\n",
       "</div>"
      ],
      "text/plain": [
       "   rider_score  percentage\n",
       "0          5.0       87.10\n",
       "1          4.0        8.83\n",
       "2          0.0        2.29\n",
       "3          3.0        1.38\n",
       "4          1.0        0.21\n",
       "5          2.0        0.19"
      ]
     },
     "execution_count": 47,
     "metadata": {},
     "output_type": "execute_result"
    }
   ],
   "source": [
    "# Анализ оценок пассажиров\n",
    "rider_score_counts = (\n",
    "    taxi.rider_score\n",
    "        .value_counts(normalize=True)\n",
    "        .mul(100)\n",
    "        .round(2)\n",
    "        .reset_index()\n",
    ")\n",
    "rider_score_counts.columns = ['rider_score', 'percentage']\n",
    "rider_score_counts = rider_score_counts.sort_values('percentage', ascending=False)\n",
    "\n",
    "rider_score_counts"
   ]
  },
  {
   "cell_type": "code",
   "execution_count": 10,
   "metadata": {},
   "outputs": [
    {
     "data": {
      "image/png": "[encoded data removed]",
      "text/plain": [
       "<Figure size 576x576 with 1 Axes>"
      ]
     },
     "metadata": {},
     "output_type": "display_data"
    }
   ],
   "source": [
    "labels = rider_score_counts['rider_score'].astype(str)\n",
    "sizes = rider_score_counts['percentage']\n",
    "plt.figure(figsize=(8, 8))\n",
    "\n",
    "plt.pie(sizes, labels=labels, startangle=90, rotatelabels=True)\n",
    "plt.show()"
   ]
  },
  {
   "cell_type": "code",
   "execution_count": 49,
   "metadata": {},
   "outputs": [
    {
     "data": {
      "text/html": [
       "<div>\n",
       "<style scoped>\n",
       "    .dataframe tbody tr th:only-of-type {\n",
       "        vertical-align: middle;\n",
       "    }\n",
       "\n",
       "    .dataframe tbody tr th {\n",
       "        vertical-align: top;\n",
       "    }\n",
       "\n",
       "    .dataframe thead th {\n",
       "        text-align: right;\n",
       "    }\n",
       "</style>\n",
       "<table border=\"1\" class=\"dataframe\">\n",
       "  <thead>\n",
       "    <tr style=\"text-align: right;\">\n",
       "      <th></th>\n",
       "      <th>journey_id</th>\n",
       "      <th>user_id</th>\n",
       "      <th>start_type</th>\n",
       "      <th>start_lat</th>\n",
       "      <th>start_lon</th>\n",
       "      <th>source</th>\n",
       "      <th>driver_score</th>\n",
       "      <th>driver_id</th>\n",
       "      <th>taxi_id</th>\n",
       "      <th>icon</th>\n",
       "      <th>start_at</th>\n",
       "      <th>end_at</th>\n",
       "      <th>end_lat</th>\n",
       "      <th>end_lon</th>\n",
       "      <th>end_state</th>\n",
       "      <th>driver_start_lat</th>\n",
       "      <th>driver_start_lon</th>\n",
       "      <th>arrived_at</th>\n",
       "      <th>rider_score</th>\n",
       "    </tr>\n",
       "  </thead>\n",
       "  <tbody>\n",
       "    <tr>\n",
       "      <th>0</th>\n",
       "      <td>23a1406fc6a11d866e3c82f22eed4d4c</td>\n",
       "      <td>0e9af5bbf1edfe591b54ecdfd7e91e26</td>\n",
       "      <td>asap</td>\n",
       "      <td>-12,13983536</td>\n",
       "      <td>-77,02355957</td>\n",
       "      <td>iPhone</td>\n",
       "      <td>5.0</td>\n",
       "      <td>583949a89a9ee17d19e3ca4f137b6b4c</td>\n",
       "      <td>b12f4f09c783e29fe0d0ea624530db56</td>\n",
       "      <td>executive</td>\n",
       "      <td>2010-11-16 16:44:00</td>\n",
       "      <td>2010-11-16 17:29:00</td>\n",
       "      <td>-12,05537033</td>\n",
       "      <td>-77,0413208</td>\n",
       "      <td>drop off</td>\n",
       "      <td>-12,10825481</td>\n",
       "      <td>-77,0272739</td>\n",
       "      <td>2010-11-16 17:02:00</td>\n",
       "      <td>5.0</td>\n",
       "    </tr>\n",
       "    <tr>\n",
       "      <th>1</th>\n",
       "      <td>dd2af4715d0dc16eded53afc0e243577</td>\n",
       "      <td>a553c46e3a22fb9c326aeb3d72b3334e</td>\n",
       "      <td>asap</td>\n",
       "      <td>-12,13874817</td>\n",
       "      <td>-76,99536133</td>\n",
       "      <td>iPhone</td>\n",
       "      <td>NaN</td>\n",
       "      <td>NaN</td>\n",
       "      <td>NaN</td>\n",
       "      <td>executive</td>\n",
       "      <td>2010-06-01 00:34:00</td>\n",
       "      <td>2010-06-01 00:37:00</td>\n",
       "      <td>-12,12465668</td>\n",
       "      <td>-77,02886963</td>\n",
       "      <td>not found</td>\n",
       "      <td>NaN</td>\n",
       "      <td>NaN</td>\n",
       "      <td>NaT</td>\n",
       "      <td>NaN</td>\n",
       "    </tr>\n",
       "    <tr>\n",
       "      <th>2</th>\n",
       "      <td>dd91e131888064bf7df3ce08f3d4b4ad</td>\n",
       "      <td>a553c46e3a22fb9c326aeb3d72b3334e</td>\n",
       "      <td>asap</td>\n",
       "      <td>-12,12453079</td>\n",
       "      <td>-77,02780151</td>\n",
       "      <td>iPhone</td>\n",
       "      <td>NaN</td>\n",
       "      <td>NaN</td>\n",
       "      <td>NaN</td>\n",
       "      <td>executive</td>\n",
       "      <td>2010-05-31 05:01:00</td>\n",
       "      <td>2010-05-31 05:04:00</td>\n",
       "      <td>-12,13883209</td>\n",
       "      <td>-76,99530029</td>\n",
       "      <td>not found</td>\n",
       "      <td>NaN</td>\n",
       "      <td>NaN</td>\n",
       "      <td>NaT</td>\n",
       "      <td>NaN</td>\n",
       "    </tr>\n",
       "    <tr>\n",
       "      <th>3</th>\n",
       "      <td>dd2af4715d0dc16eded53afc0e2466d0</td>\n",
       "      <td>a553c46e3a22fb9c326aeb3d72b3334e</td>\n",
       "      <td>asap</td>\n",
       "      <td>-12,13885117</td>\n",
       "      <td>-76,99530029</td>\n",
       "      <td>iPhone</td>\n",
       "      <td>NaN</td>\n",
       "      <td>NaN</td>\n",
       "      <td>NaN</td>\n",
       "      <td>executive</td>\n",
       "      <td>2010-06-01 00:29:00</td>\n",
       "      <td>2010-06-01 00:32:00</td>\n",
       "      <td>-12,12458801</td>\n",
       "      <td>-77,02896118</td>\n",
       "      <td>not found</td>\n",
       "      <td>NaN</td>\n",
       "      <td>NaN</td>\n",
       "      <td>NaT</td>\n",
       "      <td>NaN</td>\n",
       "    </tr>\n",
       "    <tr>\n",
       "      <th>4</th>\n",
       "      <td>85b7eabcf5d84e42dc7629b7d27781af</td>\n",
       "      <td>56772d544fdfa589a020a1ff894a86f7</td>\n",
       "      <td>reserved</td>\n",
       "      <td>-12,08995438</td>\n",
       "      <td>-76,92626953</td>\n",
       "      <td>iPhone</td>\n",
       "      <td>4.0</td>\n",
       "      <td>d665fb9f75ef5d9cd0fd89479380ba78</td>\n",
       "      <td>0accdd3aa5a322f4129fa20b53278c69</td>\n",
       "      <td>executive</td>\n",
       "      <td>2010-09-11 23:55:00</td>\n",
       "      <td>2010-09-12 01:07:00</td>\n",
       "      <td>-12,02223206</td>\n",
       "      <td>-77,10638428</td>\n",
       "      <td>drop off</td>\n",
       "      <td>-12,08311558</td>\n",
       "      <td>-76,9277072</td>\n",
       "      <td>2010-09-11 23:50:00</td>\n",
       "      <td>5.0</td>\n",
       "    </tr>\n",
       "  </tbody>\n",
       "</table>\n",
       "</div>"
      ],
      "text/plain": [
       "                         journey_id                           user_id  \\\n",
       "0  23a1406fc6a11d866e3c82f22eed4d4c  0e9af5bbf1edfe591b54ecdfd7e91e26   \n",
       "1  dd2af4715d0dc16eded53afc0e243577  a553c46e3a22fb9c326aeb3d72b3334e   \n",
       "2  dd91e131888064bf7df3ce08f3d4b4ad  a553c46e3a22fb9c326aeb3d72b3334e   \n",
       "3  dd2af4715d0dc16eded53afc0e2466d0  a553c46e3a22fb9c326aeb3d72b3334e   \n",
       "4  85b7eabcf5d84e42dc7629b7d27781af  56772d544fdfa589a020a1ff894a86f7   \n",
       "\n",
       "  start_type     start_lat     start_lon  source  driver_score  \\\n",
       "0       asap  -12,13983536  -77,02355957  iPhone           5.0   \n",
       "1       asap  -12,13874817  -76,99536133  iPhone           NaN   \n",
       "2       asap  -12,12453079  -77,02780151  iPhone           NaN   \n",
       "3       asap  -12,13885117  -76,99530029  iPhone           NaN   \n",
       "4   reserved  -12,08995438  -76,92626953  iPhone           4.0   \n",
       "\n",
       "                          driver_id                           taxi_id  \\\n",
       "0  583949a89a9ee17d19e3ca4f137b6b4c  b12f4f09c783e29fe0d0ea624530db56   \n",
       "1                               NaN                               NaN   \n",
       "2                               NaN                               NaN   \n",
       "3                               NaN                               NaN   \n",
       "4  d665fb9f75ef5d9cd0fd89479380ba78  0accdd3aa5a322f4129fa20b53278c69   \n",
       "\n",
       "        icon            start_at              end_at       end_lat  \\\n",
       "0  executive 2010-11-16 16:44:00 2010-11-16 17:29:00  -12,05537033   \n",
       "1  executive 2010-06-01 00:34:00 2010-06-01 00:37:00  -12,12465668   \n",
       "2  executive 2010-05-31 05:01:00 2010-05-31 05:04:00  -12,13883209   \n",
       "3  executive 2010-06-01 00:29:00 2010-06-01 00:32:00  -12,12458801   \n",
       "4  executive 2010-09-11 23:55:00 2010-09-12 01:07:00  -12,02223206   \n",
       "\n",
       "        end_lon  end_state driver_start_lat driver_start_lon  \\\n",
       "0   -77,0413208   drop off     -12,10825481      -77,0272739   \n",
       "1  -77,02886963  not found              NaN              NaN   \n",
       "2  -76,99530029  not found              NaN              NaN   \n",
       "3  -77,02896118  not found              NaN              NaN   \n",
       "4  -77,10638428   drop off     -12,08311558      -76,9277072   \n",
       "\n",
       "           arrived_at  rider_score  \n",
       "0 2010-11-16 17:02:00          5.0  \n",
       "1                 NaT          NaN  \n",
       "2                 NaT          NaN  \n",
       "3                 NaT          NaN  \n",
       "4 2010-09-11 23:50:00          5.0  "
      ]
     },
     "execution_count": 49,
     "metadata": {},
     "output_type": "execute_result"
    }
   ],
   "source": [
    "# Анализ времени ожидания\n",
    "taxi[['start_at', 'end_at', 'arrived_at']] = taxi[['start_at', 'end_at', 'arrived_at']].apply(pd.to_datetime)\n",
    "taxi = taxi.query(\"start_type=='asap' or start_type=='reserved'\")\n",
    "taxi.head()"
   ]
  },
  {
   "cell_type": "code",
   "execution_count": 52,
   "metadata": {},
   "outputs": [
    {
     "data": {
      "text/plain": [
       "Timedelta('0 days 00:05:00')"
      ]
     },
     "execution_count": 52,
     "metadata": {},
     "output_type": "execute_result"
    }
   ],
   "source": [
    "taxi['wait_time'] = taxi['arrived_at'] - taxi['start_at']\n",
    "taxi['wait_time'].median()"
   ]
  },
  {
   "cell_type": "code",
   "execution_count": 50,
   "metadata": {},
   "outputs": [
    {
     "data": {
      "text/plain": [
       "Timedelta('0 days 00:00:00')"
      ]
     },
     "execution_count": 50,
     "metadata": {},
     "output_type": "execute_result"
    }
   ],
   "source": [
    "# Анализ водителей с наибольшим количеством опозданий\n",
    "on_time = pd.to_timedelta(0)\n",
    "on_time"
   ]
  },
  {
   "cell_type": "code",
   "execution_count": 53,
   "metadata": {},
   "outputs": [
    {
     "data": {
      "text/plain": [
       "'406921adcca37705ef527b4246c0cfea'"
      ]
     },
     "execution_count": 53,
     "metadata": {},
     "output_type": "execute_result"
    }
   ],
   "source": [
    "taxi.query('start_type == \"reserved\" and wait_time > @on_time').driver_id.value_counts().idxmax()\n",
    "\n",
    "taxi.query('start_type == \"reserved\" and wait_time > @on_time', engine='python').driver_id.value_counts().idxmax()"
   ]
  },
  {
   "cell_type": "code",
   "execution_count": 27,
   "metadata": {},
   "outputs": [
    {
     "data": {
      "text/html": [
       "<div>\n",
       "<style scoped>\n",
       "    .dataframe tbody tr th:only-of-type {\n",
       "        vertical-align: middle;\n",
       "    }\n",
       "\n",
       "    .dataframe tbody tr th {\n",
       "        vertical-align: top;\n",
       "    }\n",
       "\n",
       "    .dataframe thead th {\n",
       "        text-align: right;\n",
       "    }\n",
       "</style>\n",
       "<table border=\"1\" class=\"dataframe\">\n",
       "  <thead>\n",
       "    <tr style=\"text-align: right;\">\n",
       "      <th></th>\n",
       "      <th>journey_id</th>\n",
       "      <th>user_id</th>\n",
       "      <th>start_type</th>\n",
       "      <th>start_lat</th>\n",
       "      <th>start_lon</th>\n",
       "      <th>source</th>\n",
       "      <th>driver_score</th>\n",
       "      <th>driver_id</th>\n",
       "      <th>taxi_id</th>\n",
       "      <th>icon</th>\n",
       "      <th>start_at</th>\n",
       "      <th>end_at</th>\n",
       "      <th>end_lat</th>\n",
       "      <th>end_lon</th>\n",
       "      <th>end_state</th>\n",
       "      <th>driver_start_lat</th>\n",
       "      <th>driver_start_lon</th>\n",
       "      <th>arrived_at</th>\n",
       "      <th>rider_score</th>\n",
       "      <th>wait_time</th>\n",
       "    </tr>\n",
       "  </thead>\n",
       "  <tbody>\n",
       "    <tr>\n",
       "      <th>9</th>\n",
       "      <td>9448070ece760ea5386e5d4822121a6c</td>\n",
       "      <td>dd23cf0ef33ae44e0c0b4c756e1fe4e8</td>\n",
       "      <td>asap</td>\n",
       "      <td>-12,08969627</td>\n",
       "      <td>-77,03574926</td>\n",
       "      <td>Android</td>\n",
       "      <td>5.0</td>\n",
       "      <td>406921adcca37705ef527b4246c0cfea</td>\n",
       "      <td>406921adcca37705ef527b4246c10d2c</td>\n",
       "      <td>executive</td>\n",
       "      <td>2010-11-22 23:42:00</td>\n",
       "      <td>2010-11-23 00:53:00</td>\n",
       "      <td>-12,03449872</td>\n",
       "      <td>-77,03020982</td>\n",
       "      <td>drop off</td>\n",
       "      <td>-12,0898203</td>\n",
       "      <td>-77,0358663</td>\n",
       "      <td>2010-11-23 00:05:00</td>\n",
       "      <td>5.0</td>\n",
       "      <td>0 days 00:23:00</td>\n",
       "    </tr>\n",
       "    <tr>\n",
       "      <th>21</th>\n",
       "      <td>7abecd4f47c2c1d5390d86eb221babff</td>\n",
       "      <td>d0d21e2cc815fa276295ce3c51811d4e</td>\n",
       "      <td>asap</td>\n",
       "      <td>-12,0834957</td>\n",
       "      <td>-77,0493404</td>\n",
       "      <td>web</td>\n",
       "      <td>NaN</td>\n",
       "      <td>406921adcca37705ef527b4246c0cfea</td>\n",
       "      <td>406921adcca37705ef527b4246c10d2c</td>\n",
       "      <td>executive</td>\n",
       "      <td>2010-04-26 21:42:00</td>\n",
       "      <td>2010-04-26 21:59:00</td>\n",
       "      <td>-12,068517</td>\n",
       "      <td>-77,041334</td>\n",
       "      <td>drop off</td>\n",
       "      <td>-12,08911977</td>\n",
       "      <td>-77,03838321</td>\n",
       "      <td>2010-04-26 21:51:00</td>\n",
       "      <td>0.0</td>\n",
       "      <td>0 days 00:09:00</td>\n",
       "    </tr>\n",
       "    <tr>\n",
       "      <th>23</th>\n",
       "      <td>23be2836bd1f20bf05c9ffa3aa6db37c</td>\n",
       "      <td>410389a59b3c36fa86e76bce43d9a336</td>\n",
       "      <td>reserved</td>\n",
       "      <td>-12,1099832</td>\n",
       "      <td>-76,975818</td>\n",
       "      <td>web</td>\n",
       "      <td>NaN</td>\n",
       "      <td>406921adcca37705ef527b4246c0cfea</td>\n",
       "      <td>406921adcca37705ef527b4246c10d2c</td>\n",
       "      <td>executive</td>\n",
       "      <td>2010-05-20 16:27:00</td>\n",
       "      <td>2010-05-20 17:16:00</td>\n",
       "      <td>-12,1254832</td>\n",
       "      <td>-77,0293897</td>\n",
       "      <td>drop off</td>\n",
       "      <td>-12,098508</td>\n",
       "      <td>-76,99515788</td>\n",
       "      <td>2010-05-20 16:16:00</td>\n",
       "      <td>5.0</td>\n",
       "      <td>-1 days +23:49:00</td>\n",
       "    </tr>\n",
       "    <tr>\n",
       "      <th>67</th>\n",
       "      <td>eb06449983dd990ff162c0ad990909ba</td>\n",
       "      <td>933a5cf7834b12121755b8586b53a083</td>\n",
       "      <td>reserved</td>\n",
       "      <td>-12,12078476</td>\n",
       "      <td>-76,97079468</td>\n",
       "      <td>iPhone</td>\n",
       "      <td>4.0</td>\n",
       "      <td>406921adcca37705ef527b4246c0cfea</td>\n",
       "      <td>406921adcca37705ef527b4246c10d2c</td>\n",
       "      <td>executive</td>\n",
       "      <td>2010-06-01 22:00:00</td>\n",
       "      <td>2010-06-01 22:42:00</td>\n",
       "      <td>-12,07870483</td>\n",
       "      <td>-77,06329346</td>\n",
       "      <td>drop off</td>\n",
       "      <td>-12,11143646</td>\n",
       "      <td>-76,99240794</td>\n",
       "      <td>2010-06-01 22:01:00</td>\n",
       "      <td>5.0</td>\n",
       "      <td>0 days 00:01:00</td>\n",
       "    </tr>\n",
       "    <tr>\n",
       "      <th>87</th>\n",
       "      <td>ddda7d9d71d2000dcf144987a3ea3d61</td>\n",
       "      <td>68fe4d0ad82cc2d715d1319533380c76</td>\n",
       "      <td>asap</td>\n",
       "      <td>-12,10496521</td>\n",
       "      <td>-77,04000854</td>\n",
       "      <td>iPhone</td>\n",
       "      <td>NaN</td>\n",
       "      <td>406921adcca37705ef527b4246c0cfea</td>\n",
       "      <td>406921adcca37705ef527b4246c10d2c</td>\n",
       "      <td>executive</td>\n",
       "      <td>2010-09-28 02:03:00</td>\n",
       "      <td>2010-09-28 02:04:00</td>\n",
       "      <td>-12,10495377</td>\n",
       "      <td>-77,03707886</td>\n",
       "      <td>driver cancel</td>\n",
       "      <td>-12,09203639</td>\n",
       "      <td>-77,02922599</td>\n",
       "      <td>NaT</td>\n",
       "      <td>NaN</td>\n",
       "      <td>NaT</td>\n",
       "    </tr>\n",
       "  </tbody>\n",
       "</table>\n",
       "</div>"
      ],
      "text/plain": [
       "                          journey_id                           user_id  \\\n",
       "9   9448070ece760ea5386e5d4822121a6c  dd23cf0ef33ae44e0c0b4c756e1fe4e8   \n",
       "21  7abecd4f47c2c1d5390d86eb221babff  d0d21e2cc815fa276295ce3c51811d4e   \n",
       "23  23be2836bd1f20bf05c9ffa3aa6db37c  410389a59b3c36fa86e76bce43d9a336   \n",
       "67  eb06449983dd990ff162c0ad990909ba  933a5cf7834b12121755b8586b53a083   \n",
       "87  ddda7d9d71d2000dcf144987a3ea3d61  68fe4d0ad82cc2d715d1319533380c76   \n",
       "\n",
       "   start_type     start_lat     start_lon   source  driver_score  \\\n",
       "9        asap  -12,08969627  -77,03574926  Android           5.0   \n",
       "21       asap   -12,0834957   -77,0493404      web           NaN   \n",
       "23   reserved   -12,1099832    -76,975818      web           NaN   \n",
       "67   reserved  -12,12078476  -76,97079468   iPhone           4.0   \n",
       "87       asap  -12,10496521  -77,04000854   iPhone           NaN   \n",
       "\n",
       "                           driver_id                           taxi_id  \\\n",
       "9   406921adcca37705ef527b4246c0cfea  406921adcca37705ef527b4246c10d2c   \n",
       "21  406921adcca37705ef527b4246c0cfea  406921adcca37705ef527b4246c10d2c   \n",
       "23  406921adcca37705ef527b4246c0cfea  406921adcca37705ef527b4246c10d2c   \n",
       "67  406921adcca37705ef527b4246c0cfea  406921adcca37705ef527b4246c10d2c   \n",
       "87  406921adcca37705ef527b4246c0cfea  406921adcca37705ef527b4246c10d2c   \n",
       "\n",
       "         icon            start_at              end_at       end_lat  \\\n",
       "9   executive 2010-11-22 23:42:00 2010-11-23 00:53:00  -12,03449872   \n",
       "21  executive 2010-04-26 21:42:00 2010-04-26 21:59:00    -12,068517   \n",
       "23  executive 2010-05-20 16:27:00 2010-05-20 17:16:00   -12,1254832   \n",
       "67  executive 2010-06-01 22:00:00 2010-06-01 22:42:00  -12,07870483   \n",
       "87  executive 2010-09-28 02:03:00 2010-09-28 02:04:00  -12,10495377   \n",
       "\n",
       "         end_lon      end_state driver_start_lat driver_start_lon  \\\n",
       "9   -77,03020982       drop off      -12,0898203      -77,0358663   \n",
       "21    -77,041334       drop off     -12,08911977     -77,03838321   \n",
       "23   -77,0293897       drop off       -12,098508     -76,99515788   \n",
       "67  -77,06329346       drop off     -12,11143646     -76,99240794   \n",
       "87  -77,03707886  driver cancel     -12,09203639     -77,02922599   \n",
       "\n",
       "            arrived_at  rider_score         wait_time  \n",
       "9  2010-11-23 00:05:00          5.0   0 days 00:23:00  \n",
       "21 2010-04-26 21:51:00          0.0   0 days 00:09:00  \n",
       "23 2010-05-20 16:16:00          5.0 -1 days +23:49:00  \n",
       "67 2010-06-01 22:01:00          5.0   0 days 00:01:00  \n",
       "87                 NaT          NaN               NaT  "
      ]
     },
     "execution_count": 27,
     "metadata": {},
     "output_type": "execute_result"
    }
   ],
   "source": [
    "taxi[taxi['driver_id'] == '406921adcca37705ef527b4246c0cfea'].head()"
   ]
  },
  {
   "cell_type": "code",
   "execution_count": 54,
   "metadata": {},
   "outputs": [
    {
     "data": {
      "text/html": [
       "<div>\n",
       "<style scoped>\n",
       "    .dataframe tbody tr th:only-of-type {\n",
       "        vertical-align: middle;\n",
       "    }\n",
       "\n",
       "    .dataframe tbody tr th {\n",
       "        vertical-align: top;\n",
       "    }\n",
       "\n",
       "    .dataframe thead th {\n",
       "        text-align: right;\n",
       "    }\n",
       "</style>\n",
       "<table border=\"1\" class=\"dataframe\">\n",
       "  <thead>\n",
       "    <tr style=\"text-align: right;\">\n",
       "      <th></th>\n",
       "      <th>month</th>\n",
       "      <th>weekday</th>\n",
       "    </tr>\n",
       "  </thead>\n",
       "  <tbody>\n",
       "    <tr>\n",
       "      <th>0</th>\n",
       "      <td>11</td>\n",
       "      <td>Tuesday</td>\n",
       "    </tr>\n",
       "    <tr>\n",
       "      <th>1</th>\n",
       "      <td>6</td>\n",
       "      <td>Tuesday</td>\n",
       "    </tr>\n",
       "    <tr>\n",
       "      <th>2</th>\n",
       "      <td>5</td>\n",
       "      <td>Monday</td>\n",
       "    </tr>\n",
       "    <tr>\n",
       "      <th>3</th>\n",
       "      <td>6</td>\n",
       "      <td>Tuesday</td>\n",
       "    </tr>\n",
       "    <tr>\n",
       "      <th>4</th>\n",
       "      <td>9</td>\n",
       "      <td>Saturday</td>\n",
       "    </tr>\n",
       "    <tr>\n",
       "      <th>...</th>\n",
       "      <td>...</td>\n",
       "      <td>...</td>\n",
       "    </tr>\n",
       "    <tr>\n",
       "      <th>23106</th>\n",
       "      <td>7</td>\n",
       "      <td>Saturday</td>\n",
       "    </tr>\n",
       "    <tr>\n",
       "      <th>23107</th>\n",
       "      <td>10</td>\n",
       "      <td>Saturday</td>\n",
       "    </tr>\n",
       "    <tr>\n",
       "      <th>23108</th>\n",
       "      <td>9</td>\n",
       "      <td>Tuesday</td>\n",
       "    </tr>\n",
       "    <tr>\n",
       "      <th>23109</th>\n",
       "      <td>4</td>\n",
       "      <td>Thursday</td>\n",
       "    </tr>\n",
       "    <tr>\n",
       "      <th>23110</th>\n",
       "      <td>3</td>\n",
       "      <td>Tuesday</td>\n",
       "    </tr>\n",
       "  </tbody>\n",
       "</table>\n",
       "<p>23091 rows × 2 columns</p>\n",
       "</div>"
      ],
      "text/plain": [
       "       month   weekday\n",
       "0         11   Tuesday\n",
       "1          6   Tuesday\n",
       "2          5    Monday\n",
       "3          6   Tuesday\n",
       "4          9  Saturday\n",
       "...      ...       ...\n",
       "23106      7  Saturday\n",
       "23107     10  Saturday\n",
       "23108      9   Tuesday\n",
       "23109      4  Thursday\n",
       "23110      3   Tuesday\n",
       "\n",
       "[23091 rows x 2 columns]"
      ]
     },
     "execution_count": 54,
     "metadata": {},
     "output_type": "execute_result"
    }
   ],
   "source": [
    "# Анализ временных характеристик поездок\n",
    "taxi['start_at'] = pd.to_datetime(taxi['start_at'])\n",
    "taxi['month'] = taxi['start_at'].dt.month\n",
    "taxi['weekday'] = taxi['start_at'].dt.day_name()\n",
    "taxi[['month', 'weekday']]"
   ]
  },
  {
   "cell_type": "code",
   "execution_count": 55,
   "metadata": {},
   "outputs": [
    {
     "data": {
      "text/plain": [
       "month\n",
       "1      573\n",
       "2      766\n",
       "3      983\n",
       "4     1445\n",
       "7     1512\n",
       "5     1584\n",
       "6     1936\n",
       "8     2120\n",
       "9     2598\n",
       "11    3021\n",
       "10    3240\n",
       "12    3313\n",
       "Name: journey_id, dtype: int64"
      ]
     },
     "execution_count": 55,
     "metadata": {},
     "output_type": "execute_result"
    }
   ],
   "source": [
    "# Анализ количества поездок по месяцам\n",
    "pickups_per_month = taxi.groupby('month')['journey_id'].nunique().sort_values(ascending=True)\n",
    "pickups_per_month"
   ]
  },
  {
   "cell_type": "code",
   "execution_count": 30,
   "metadata": {},
   "outputs": [
    {
     "data": {
      "image/png": "[encoded data removed]",
      "text/plain": [
       "<Figure size 640x480 with 1 Axes>"
      ]
     },
     "metadata": {},
     "output_type": "display_data"
    }
   ],
   "source": [
    "plt.bar(pickups_per_month.index, pickups_per_month.values)\n",
    "\n",
    "plt.xlabel('Месяц')\n",
    "plt.ylabel('Количество заказов')\n",
    "plt.title('Заказы по месяцам')\n",
    "\n",
    "plt.show()"
   ]
  },
  {
   "cell_type": "code",
   "execution_count": 31,
   "metadata": {},
   "outputs": [
    {
     "data": {
      "text/plain": [
       "weekday\n",
       "Wednesday    2322\n",
       "Tuesday      2965\n",
       "Thursday     3133\n",
       "Friday       3332\n",
       "Saturday     3569\n",
       "Sunday       3752\n",
       "Monday       4018\n",
       "Name: journey_id, dtype: int64"
      ]
     },
     "execution_count": 31,
     "metadata": {},
     "output_type": "execute_result"
    }
   ],
   "source": [
    "pickups_per_day = taxi.groupby('weekday')['journey_id'].nunique().sort_values(ascending=True)\n",
    "pickups_per_day"
   ]
  },
  {
   "cell_type": "code",
   "execution_count": 32,
   "metadata": {},
   "outputs": [
    {
     "data": {
      "image/png": "[encoded data removed]",
      "text/plain": [
       "<Figure size 800x800 with 1 Axes>"
      ]
     },
     "metadata": {},
     "output_type": "display_data"
    }
   ],
   "source": [
    "plt.figure(figsize=(8, 8))\n",
    "sns.countplot(data=taxi, x='weekday', order=['Monday', 'Tuesday', 'Wednesday', 'Thursday', 'Friday', 'Saturday', 'Sunday'])\n",
    "plt.show()"
   ]
  },
  {
   "cell_type": "code",
   "execution_count": 33,
   "metadata": {},
   "outputs": [
    {
     "name": "stdout",
     "output_type": "stream",
     "text": [
      "<class 'pandas.core.frame.DataFrame'>\n",
      "Index: 23091 entries, 0 to 23110\n",
      "Data columns (total 22 columns):\n",
      " #   Column            Non-Null Count  Dtype          \n",
      "---  ------            --------------  -----          \n",
      " 0   journey_id        23091 non-null  object         \n",
      " 1   user_id           23091 non-null  object         \n",
      " 2   start_type        23091 non-null  object         \n",
      " 3   start_lat         23091 non-null  object         \n",
      " 4   start_lon         23091 non-null  object         \n",
      " 5   source            22968 non-null  object         \n",
      " 6   driver_score      7647 non-null   float64        \n",
      " 7   driver_id         19719 non-null  object         \n",
      " 8   taxi_id           19719 non-null  object         \n",
      " 9   icon              23091 non-null  object         \n",
      " 10  start_at          23091 non-null  datetime64[ns] \n",
      " 11  end_at            22817 non-null  datetime64[ns] \n",
      " 12  end_lat           23091 non-null  object         \n",
      " 13  end_lon           23091 non-null  object         \n",
      " 14  end_state         23079 non-null  object         \n",
      " 15  driver_start_lat  19614 non-null  object         \n",
      " 16  driver_start_lon  19614 non-null  object         \n",
      " 17  arrived_at        17710 non-null  datetime64[ns] \n",
      " 18  rider_score       15385 non-null  float64        \n",
      " 19  wait_time         17710 non-null  timedelta64[ns]\n",
      " 20  month             23091 non-null  int32          \n",
      " 21  weekday           23091 non-null  object         \n",
      "dtypes: datetime64[ns](3), float64(2), int32(1), object(15), timedelta64[ns](1)\n",
      "memory usage: 4.0+ MB\n"
     ]
    }
   ],
   "source": [
    "taxi.info()"
   ]
  },
  {
   "cell_type": "code",
   "execution_count": 34,
   "metadata": {},
   "outputs": [
    {
     "data": {
      "text/plain": [
       "month\n",
       "1     102\n",
       "2     110\n",
       "3     162\n",
       "4     253\n",
       "5     275\n",
       "6     309\n",
       "7     318\n",
       "8     377\n",
       "9     416\n",
       "10    437\n",
       "11    504\n",
       "12    569\n",
       "Name: user_id, dtype: int64"
      ]
     },
     "execution_count": 34,
     "metadata": {},
     "output_type": "execute_result"
    }
   ],
   "source": [
    "mau = taxi.groupby('month')['user_id'].nunique()\n",
    "mau"
   ]
  },
  {
   "cell_type": "code",
   "execution_count": 35,
   "metadata": {},
   "outputs": [
    {
     "data": {
      "image/png": "[encoded data removed]",
      "text/plain": [
       "<Figure size 800x800 with 1 Axes>"
      ]
     },
     "metadata": {},
     "output_type": "display_data"
    }
   ],
   "source": [
    "plt.figure(figsize=(8, 8))\n",
    "\n",
    "sns.barplot(x=mau.index, y=mau.values)\n",
    "\n",
    "plt.show()"
   ]
  },
  {
   "cell_type": "code",
   "execution_count": 36,
   "metadata": {},
   "outputs": [
    {
     "name": "stdout",
     "output_type": "stream",
     "text": [
      "Медиана: 165.0 Среднее: 188.0\n"
     ]
    }
   ],
   "source": [
    "sales = [120, 150, 80, 200, 250, 300, 50, 180, 210, 130, 90, 500]\n",
    "\n",
    "# создаем DataFrame\n",
    "df_sales = pd.DataFrame(sales, columns=['values'])\n",
    "\n",
    "# сортируем значения (если нужно)\n",
    "df_sales_sorted = df_sales.sort_values(by='values')\n",
    "\n",
    "# считаем медиану\n",
    "median_value = df_sales['values'].median()\n",
    "mean_value = df_sales['values'].mean().round()\n",
    "\n",
    "print(\"Медиана:\", median_value, 'Среднее:', mean_value)\n"
   ]
  },
  {
   "cell_type": "code",
   "execution_count": null,
   "metadata": {},
   "outputs": [],
   "source": []
  },
  {
   "cell_type": "code",
   "execution_count": null,
   "metadata": {},
   "outputs": [],
   "source": []
  },
  {
   "cell_type": "code",
   "execution_count": null,
   "metadata": {},
   "outputs": [],
   "source": []
  },
  {
   "cell_type": "code",
   "execution_count": null,
   "metadata": {},
   "outputs": [],
   "source": []
  },
  {
   "cell_type": "code",
   "execution_count": null,
   "metadata": {},
   "outputs": [],
   "source": []
  },
  {
   "cell_type": "code",
   "execution_count": null,
   "metadata": {},
   "outputs": [],
   "source": []
  },
  {
   "cell_type": "code",
   "execution_count": null,
   "metadata": {},
   "outputs": [],
   "source": []
  }
 ],
 "metadata": {
  "kernelspec": {
   "display_name": "Python 3 (ipykernel)",
   "language": "python",
   "name": "python3"
  },
  "language_info": {
   "codemirror_mode": {
    "name": "ipython",
    "version": 3
   },
   "file_extension": ".py",
   "mimetype": "text/x-python",
   "name": "python",
   "nbconvert_exporter": "python",
   "pygments_lexer": "ipython3",
   "version": "3.13.4"
  }
 },
 "nbformat": 4,
 "nbformat_minor": 4
}
