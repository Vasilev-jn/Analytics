{
 "cells": [
  {
   "cell_type": "markdown",
   "metadata": {
    "id": "0A5e9MbQb1GC"
   },
   "source": [
    "# Аналитика клиентов и логов gamedev-стартапа"
   ]
  },
  {
   "cell_type": "markdown",
   "metadata": {
    "id": "UQfNzEIpb1GM"
   },
   "source": [
    "### Провеяем, сколько пустых значений в датафрейме `user_data`."
   ]
  },
  {
   "cell_type": "code",
   "execution_count": 6,
   "metadata": {
    "id": "7KmtQEBvb1GP"
   },
   "outputs": [],
   "source": [
    "import pandas as pd"
   ]
  },
  {
   "cell_type": "code",
   "execution_count": 7,
   "metadata": {
    "id": "jiCOhqQbb1Gh"
   },
   "outputs": [],
   "source": [
    "user_data = pd.read_csv('5_user_data.csv')\n",
    "logs = pd.read_csv('5_logs.csv')"
   ]
  },
  {
   "cell_type": "code",
   "execution_count": 8,
   "metadata": {
    "id": "FlTL9hlNb1Gi"
   },
   "outputs": [
    {
     "data": {
      "text/plain": [
       "count    2954.00\n",
       "mean       44.20\n",
       "std        14.25\n",
       "min        20.00\n",
       "25%        32.00\n",
       "50%        44.00\n",
       "75%        56.00\n",
       "max        69.00\n",
       "Name: age, dtype: float64"
      ]
     },
     "execution_count": 8,
     "metadata": {},
     "output_type": "execute_result"
    }
   ],
   "source": [
    "user_data.age.describe().round(2)"
   ]
  },
  {
   "cell_type": "code",
   "execution_count": 9,
   "metadata": {
    "id": "ruf41kM3b1Gk"
   },
   "outputs": [
    {
     "name": "stdout",
     "output_type": "stream",
     "text": [
      "<class 'pandas.core.frame.DataFrame'>\n",
      "RangeIndex: 2954 entries, 0 to 2953\n",
      "Data columns (total 3 columns):\n",
      " #   Column   Non-Null Count  Dtype\n",
      "---  ------   --------------  -----\n",
      " 0   client   2954 non-null   int64\n",
      " 1   premium  2954 non-null   bool \n",
      " 2   age      2954 non-null   int64\n",
      "dtypes: bool(1), int64(2)\n",
      "memory usage: 49.2 KB\n"
     ]
    }
   ],
   "source": [
    "user_data.info()"
   ]
  },
  {
   "cell_type": "markdown",
   "metadata": {
    "id": "QkZR6KsJb1Gr"
   },
   "source": [
    "### Определяем, какой клиент или клиенты дали наибольшее количество успешных ответов."
   ]
  },
  {
   "cell_type": "code",
   "execution_count": 10,
   "metadata": {
    "id": "vPb1kFI5b1Gs"
   },
   "outputs": [
    {
     "data": {
      "text/html": [
       "<div>\n",
       "<style scoped>\n",
       "    .dataframe tbody tr th:only-of-type {\n",
       "        vertical-align: middle;\n",
       "    }\n",
       "\n",
       "    .dataframe tbody tr th {\n",
       "        vertical-align: top;\n",
       "    }\n",
       "\n",
       "    .dataframe thead th {\n",
       "        text-align: right;\n",
       "    }\n",
       "</style>\n",
       "<table border=\"1\" class=\"dataframe\">\n",
       "  <thead>\n",
       "    <tr style=\"text-align: right;\">\n",
       "      <th></th>\n",
       "      <th>client</th>\n",
       "      <th>success</th>\n",
       "      <th>platform</th>\n",
       "      <th>time</th>\n",
       "    </tr>\n",
       "  </thead>\n",
       "  <tbody>\n",
       "    <tr>\n",
       "      <th>0</th>\n",
       "      <td>40177</td>\n",
       "      <td>True</td>\n",
       "      <td>phone</td>\n",
       "      <td>1585412212</td>\n",
       "    </tr>\n",
       "    <tr>\n",
       "      <th>1</th>\n",
       "      <td>61468</td>\n",
       "      <td>True</td>\n",
       "      <td>phone</td>\n",
       "      <td>1585425658</td>\n",
       "    </tr>\n",
       "    <tr>\n",
       "      <th>3</th>\n",
       "      <td>9961</td>\n",
       "      <td>True</td>\n",
       "      <td>phone</td>\n",
       "      <td>1585400189</td>\n",
       "    </tr>\n",
       "    <tr>\n",
       "      <th>4</th>\n",
       "      <td>10931</td>\n",
       "      <td>True</td>\n",
       "      <td>computer</td>\n",
       "      <td>1585468629</td>\n",
       "    </tr>\n",
       "    <tr>\n",
       "      <th>5</th>\n",
       "      <td>41928</td>\n",
       "      <td>True</td>\n",
       "      <td>phone</td>\n",
       "      <td>1585446772</td>\n",
       "    </tr>\n",
       "    <tr>\n",
       "      <th>...</th>\n",
       "      <td>...</td>\n",
       "      <td>...</td>\n",
       "      <td>...</td>\n",
       "      <td>...</td>\n",
       "    </tr>\n",
       "    <tr>\n",
       "      <th>4493</th>\n",
       "      <td>92584</td>\n",
       "      <td>True</td>\n",
       "      <td>computer</td>\n",
       "      <td>1585408896</td>\n",
       "    </tr>\n",
       "    <tr>\n",
       "      <th>4494</th>\n",
       "      <td>95152</td>\n",
       "      <td>True</td>\n",
       "      <td>computer</td>\n",
       "      <td>1585420263</td>\n",
       "    </tr>\n",
       "    <tr>\n",
       "      <th>4496</th>\n",
       "      <td>73299</td>\n",
       "      <td>True</td>\n",
       "      <td>phone</td>\n",
       "      <td>1585458370</td>\n",
       "    </tr>\n",
       "    <tr>\n",
       "      <th>4497</th>\n",
       "      <td>8967</td>\n",
       "      <td>True</td>\n",
       "      <td>phone</td>\n",
       "      <td>1585465121</td>\n",
       "    </tr>\n",
       "    <tr>\n",
       "      <th>4499</th>\n",
       "      <td>40921</td>\n",
       "      <td>True</td>\n",
       "      <td>phone</td>\n",
       "      <td>1585437692</td>\n",
       "    </tr>\n",
       "  </tbody>\n",
       "</table>\n",
       "<p>3289 rows × 4 columns</p>\n",
       "</div>"
      ],
      "text/plain": [
       "      client  success  platform        time\n",
       "0      40177     True     phone  1585412212\n",
       "1      61468     True     phone  1585425658\n",
       "3       9961     True     phone  1585400189\n",
       "4      10931     True  computer  1585468629\n",
       "5      41928     True     phone  1585446772\n",
       "...      ...      ...       ...         ...\n",
       "4493   92584     True  computer  1585408896\n",
       "4494   95152     True  computer  1585420263\n",
       "4496   73299     True     phone  1585458370\n",
       "4497    8967     True     phone  1585465121\n",
       "4499   40921     True     phone  1585437692\n",
       "\n",
       "[3289 rows x 4 columns]"
      ]
     },
     "execution_count": 10,
     "metadata": {},
     "output_type": "execute_result"
    }
   ],
   "source": [
    "success = logs[logs['success'] == True]\n",
    "success"
   ]
  },
  {
   "cell_type": "code",
   "execution_count": 11,
   "metadata": {
    "id": "IjoYLqN5b1Gs"
   },
   "outputs": [
    {
     "data": {
      "text/plain": [
       "client\n",
       "61473    41\n",
       "78349    41\n",
       "36165    41\n",
       "61468    41\n",
       "92584    41\n",
       "         ..\n",
       "50300     1\n",
       "51575     1\n",
       "3553      1\n",
       "502       1\n",
       "11983     1\n",
       "Name: count, Length: 2845, dtype: int64"
      ]
     },
     "execution_count": 11,
     "metadata": {},
     "output_type": "execute_result"
    }
   ],
   "source": [
    "count_success = success.client.value_counts()\n",
    "count_success"
   ]
  },
  {
   "cell_type": "code",
   "execution_count": 12,
   "metadata": {
    "id": "khPdXNTcb1G5"
   },
   "outputs": [
    {
     "data": {
      "text/plain": [
       "np.int64(41)"
      ]
     },
     "execution_count": 12,
     "metadata": {},
     "output_type": "execute_result"
    }
   ],
   "source": [
    "count_success.max()"
   ]
  },
  {
   "cell_type": "code",
   "execution_count": 13,
   "metadata": {
    "id": "WOdQwmPob1G6"
   },
   "outputs": [],
   "source": [
    "max_success = count_success.loc[count_success == 41]"
   ]
  },
  {
   "cell_type": "code",
   "execution_count": 14,
   "metadata": {
    "id": "I4zQss7xb1G7"
   },
   "outputs": [
    {
     "data": {
      "text/plain": [
       "Index([12179, 28719, 36165, 52870, 61468, 61473, 78349, 82563, 92584], dtype='int64', name='client')"
      ]
     },
     "execution_count": 14,
     "metadata": {},
     "output_type": "execute_result"
    }
   ],
   "source": [
    "max_success.index.sort_values()"
   ]
  },
  {
   "cell_type": "markdown",
   "metadata": {
    "id": "Y5wEsr6Ub1HW"
   },
   "source": [
    "### Выясняем, с какой платформы было дано наибольшее количество успешных ответов"
   ]
  },
  {
   "cell_type": "code",
   "execution_count": 15,
   "metadata": {
    "id": "j8WtLIDfb1HX"
   },
   "outputs": [],
   "source": [
    "success = logs[logs['success'] == True]"
   ]
  },
  {
   "cell_type": "code",
   "execution_count": 16,
   "metadata": {
    "id": "w_62SUoRb1HY"
   },
   "outputs": [
    {
     "data": {
      "text/plain": [
       "platform\n",
       "phone       2019\n",
       "computer    1090\n",
       "tablet       180\n",
       "Name: count, dtype: int64"
      ]
     },
     "execution_count": 16,
     "metadata": {},
     "output_type": "execute_result"
    }
   ],
   "source": [
    "best_platform = success.platform.value_counts()\n",
    "best_platform"
   ]
  },
  {
   "cell_type": "code",
   "execution_count": 17,
   "metadata": {
    "id": "S0Qf1sLvb1HY"
   },
   "outputs": [
    {
     "data": {
      "text/plain": [
       "'phone'"
      ]
     },
     "execution_count": 17,
     "metadata": {},
     "output_type": "execute_result"
    }
   ],
   "source": [
    "best_platform.idxmax()"
   ]
  },
  {
   "cell_type": "markdown",
   "metadata": {
    "id": "CenGjpvob1HZ"
   },
   "source": [
    "### Определяем, какая платформа пользуется наибольшей популярностью среди премиум-клиентов."
   ]
  },
  {
   "cell_type": "code",
   "execution_count": 18,
   "metadata": {
    "id": "F639yvjWb1Ha"
   },
   "outputs": [
    {
     "data": {
      "text/html": [
       "<div>\n",
       "<style scoped>\n",
       "    .dataframe tbody tr th:only-of-type {\n",
       "        vertical-align: middle;\n",
       "    }\n",
       "\n",
       "    .dataframe tbody tr th {\n",
       "        vertical-align: top;\n",
       "    }\n",
       "\n",
       "    .dataframe thead th {\n",
       "        text-align: right;\n",
       "    }\n",
       "</style>\n",
       "<table border=\"1\" class=\"dataframe\">\n",
       "  <thead>\n",
       "    <tr style=\"text-align: right;\">\n",
       "      <th></th>\n",
       "      <th>client</th>\n",
       "      <th>premium</th>\n",
       "      <th>age</th>\n",
       "      <th>success</th>\n",
       "      <th>platform</th>\n",
       "      <th>time</th>\n",
       "    </tr>\n",
       "  </thead>\n",
       "  <tbody>\n",
       "    <tr>\n",
       "      <th>0</th>\n",
       "      <td>46346</td>\n",
       "      <td>False</td>\n",
       "      <td>58</td>\n",
       "      <td>True</td>\n",
       "      <td>phone</td>\n",
       "      <td>1585452839</td>\n",
       "    </tr>\n",
       "    <tr>\n",
       "      <th>1</th>\n",
       "      <td>4391</td>\n",
       "      <td>False</td>\n",
       "      <td>55</td>\n",
       "      <td>False</td>\n",
       "      <td>phone</td>\n",
       "      <td>1585409861</td>\n",
       "    </tr>\n",
       "    <tr>\n",
       "      <th>2</th>\n",
       "      <td>27372</td>\n",
       "      <td>False</td>\n",
       "      <td>64</td>\n",
       "      <td>False</td>\n",
       "      <td>phone</td>\n",
       "      <td>1585446018</td>\n",
       "    </tr>\n",
       "    <tr>\n",
       "      <th>3</th>\n",
       "      <td>11989</td>\n",
       "      <td>False</td>\n",
       "      <td>44</td>\n",
       "      <td>True</td>\n",
       "      <td>computer</td>\n",
       "      <td>1585403698</td>\n",
       "    </tr>\n",
       "    <tr>\n",
       "      <th>4</th>\n",
       "      <td>60664</td>\n",
       "      <td>False</td>\n",
       "      <td>49</td>\n",
       "      <td>True</td>\n",
       "      <td>phone</td>\n",
       "      <td>1585406918</td>\n",
       "    </tr>\n",
       "    <tr>\n",
       "      <th>...</th>\n",
       "      <td>...</td>\n",
       "      <td>...</td>\n",
       "      <td>...</td>\n",
       "      <td>...</td>\n",
       "      <td>...</td>\n",
       "      <td>...</td>\n",
       "    </tr>\n",
       "    <tr>\n",
       "      <th>3434</th>\n",
       "      <td>19411</td>\n",
       "      <td>False</td>\n",
       "      <td>29</td>\n",
       "      <td>True</td>\n",
       "      <td>phone</td>\n",
       "      <td>1585400902</td>\n",
       "    </tr>\n",
       "    <tr>\n",
       "      <th>3435</th>\n",
       "      <td>61579</td>\n",
       "      <td>False</td>\n",
       "      <td>50</td>\n",
       "      <td>True</td>\n",
       "      <td>phone</td>\n",
       "      <td>1585436158</td>\n",
       "    </tr>\n",
       "    <tr>\n",
       "      <th>3436</th>\n",
       "      <td>61221</td>\n",
       "      <td>True</td>\n",
       "      <td>64</td>\n",
       "      <td>True</td>\n",
       "      <td>phone</td>\n",
       "      <td>1585440218</td>\n",
       "    </tr>\n",
       "    <tr>\n",
       "      <th>3437</th>\n",
       "      <td>29863</td>\n",
       "      <td>False</td>\n",
       "      <td>46</td>\n",
       "      <td>True</td>\n",
       "      <td>tablet</td>\n",
       "      <td>1585443437</td>\n",
       "    </tr>\n",
       "    <tr>\n",
       "      <th>3438</th>\n",
       "      <td>78499</td>\n",
       "      <td>False</td>\n",
       "      <td>36</td>\n",
       "      <td>False</td>\n",
       "      <td>phone</td>\n",
       "      <td>1585425483</td>\n",
       "    </tr>\n",
       "  </tbody>\n",
       "</table>\n",
       "<p>3439 rows × 6 columns</p>\n",
       "</div>"
      ],
      "text/plain": [
       "      client  premium  age  success  platform        time\n",
       "0      46346    False   58     True     phone  1585452839\n",
       "1       4391    False   55    False     phone  1585409861\n",
       "2      27372    False   64    False     phone  1585446018\n",
       "3      11989    False   44     True  computer  1585403698\n",
       "4      60664    False   49     True     phone  1585406918\n",
       "...      ...      ...  ...      ...       ...         ...\n",
       "3434   19411    False   29     True     phone  1585400902\n",
       "3435   61579    False   50     True     phone  1585436158\n",
       "3436   61221     True   64     True     phone  1585440218\n",
       "3437   29863    False   46     True    tablet  1585443437\n",
       "3438   78499    False   36    False     phone  1585425483\n",
       "\n",
       "[3439 rows x 6 columns]"
      ]
     },
     "execution_count": 18,
     "metadata": {},
     "output_type": "execute_result"
    }
   ],
   "source": [
    "user_logs = pd.merge(user_data, logs, on='client', how='inner')\n",
    "user_logs"
   ]
  },
  {
   "cell_type": "code",
   "execution_count": 19,
   "metadata": {
    "id": "pBms6ejbb1Hb"
   },
   "outputs": [
    {
     "data": {
      "text/html": [
       "<div>\n",
       "<style scoped>\n",
       "    .dataframe tbody tr th:only-of-type {\n",
       "        vertical-align: middle;\n",
       "    }\n",
       "\n",
       "    .dataframe tbody tr th {\n",
       "        vertical-align: top;\n",
       "    }\n",
       "\n",
       "    .dataframe thead th {\n",
       "        text-align: right;\n",
       "    }\n",
       "</style>\n",
       "<table border=\"1\" class=\"dataframe\">\n",
       "  <thead>\n",
       "    <tr style=\"text-align: right;\">\n",
       "      <th></th>\n",
       "      <th>client</th>\n",
       "      <th>premium</th>\n",
       "      <th>age</th>\n",
       "      <th>success</th>\n",
       "      <th>platform</th>\n",
       "      <th>time</th>\n",
       "    </tr>\n",
       "  </thead>\n",
       "  <tbody>\n",
       "    <tr>\n",
       "      <th>0</th>\n",
       "      <td>46346</td>\n",
       "      <td>False</td>\n",
       "      <td>58</td>\n",
       "      <td>True</td>\n",
       "      <td>phone</td>\n",
       "      <td>1585452839</td>\n",
       "    </tr>\n",
       "    <tr>\n",
       "      <th>1</th>\n",
       "      <td>4391</td>\n",
       "      <td>False</td>\n",
       "      <td>55</td>\n",
       "      <td>False</td>\n",
       "      <td>phone</td>\n",
       "      <td>1585409861</td>\n",
       "    </tr>\n",
       "    <tr>\n",
       "      <th>2</th>\n",
       "      <td>27372</td>\n",
       "      <td>False</td>\n",
       "      <td>64</td>\n",
       "      <td>False</td>\n",
       "      <td>phone</td>\n",
       "      <td>1585446018</td>\n",
       "    </tr>\n",
       "    <tr>\n",
       "      <th>3</th>\n",
       "      <td>11989</td>\n",
       "      <td>False</td>\n",
       "      <td>44</td>\n",
       "      <td>True</td>\n",
       "      <td>computer</td>\n",
       "      <td>1585403698</td>\n",
       "    </tr>\n",
       "    <tr>\n",
       "      <th>4</th>\n",
       "      <td>60664</td>\n",
       "      <td>False</td>\n",
       "      <td>49</td>\n",
       "      <td>True</td>\n",
       "      <td>phone</td>\n",
       "      <td>1585406918</td>\n",
       "    </tr>\n",
       "  </tbody>\n",
       "</table>\n",
       "</div>"
      ],
      "text/plain": [
       "   client  premium  age  success  platform        time\n",
       "0   46346    False   58     True     phone  1585452839\n",
       "1    4391    False   55    False     phone  1585409861\n",
       "2   27372    False   64    False     phone  1585446018\n",
       "3   11989    False   44     True  computer  1585403698\n",
       "4   60664    False   49     True     phone  1585406918"
      ]
     },
     "execution_count": 19,
     "metadata": {},
     "output_type": "execute_result"
    }
   ],
   "source": [
    "user_logs.head()"
   ]
  },
  {
   "cell_type": "code",
   "execution_count": 20,
   "metadata": {
    "id": "LSB7s-fnb1Hc"
   },
   "outputs": [
    {
     "data": {
      "text/html": [
       "<div>\n",
       "<style scoped>\n",
       "    .dataframe tbody tr th:only-of-type {\n",
       "        vertical-align: middle;\n",
       "    }\n",
       "\n",
       "    .dataframe tbody tr th {\n",
       "        vertical-align: top;\n",
       "    }\n",
       "\n",
       "    .dataframe thead th {\n",
       "        text-align: right;\n",
       "    }\n",
       "</style>\n",
       "<table border=\"1\" class=\"dataframe\">\n",
       "  <thead>\n",
       "    <tr style=\"text-align: right;\">\n",
       "      <th></th>\n",
       "      <th>client</th>\n",
       "      <th>premium</th>\n",
       "      <th>age</th>\n",
       "      <th>success</th>\n",
       "      <th>platform</th>\n",
       "      <th>time</th>\n",
       "    </tr>\n",
       "  </thead>\n",
       "  <tbody>\n",
       "    <tr>\n",
       "      <th>23</th>\n",
       "      <td>74867</td>\n",
       "      <td>True</td>\n",
       "      <td>27</td>\n",
       "      <td>False</td>\n",
       "      <td>computer</td>\n",
       "      <td>1585452086</td>\n",
       "    </tr>\n",
       "    <tr>\n",
       "      <th>24</th>\n",
       "      <td>49379</td>\n",
       "      <td>True</td>\n",
       "      <td>25</td>\n",
       "      <td>False</td>\n",
       "      <td>computer</td>\n",
       "      <td>1585433626</td>\n",
       "    </tr>\n",
       "    <tr>\n",
       "      <th>25</th>\n",
       "      <td>88203</td>\n",
       "      <td>True</td>\n",
       "      <td>35</td>\n",
       "      <td>True</td>\n",
       "      <td>phone</td>\n",
       "      <td>1585450059</td>\n",
       "    </tr>\n",
       "    <tr>\n",
       "      <th>30</th>\n",
       "      <td>32603</td>\n",
       "      <td>True</td>\n",
       "      <td>20</td>\n",
       "      <td>True</td>\n",
       "      <td>computer</td>\n",
       "      <td>1585473383</td>\n",
       "    </tr>\n",
       "    <tr>\n",
       "      <th>52</th>\n",
       "      <td>53182</td>\n",
       "      <td>True</td>\n",
       "      <td>24</td>\n",
       "      <td>True</td>\n",
       "      <td>phone</td>\n",
       "      <td>1585406474</td>\n",
       "    </tr>\n",
       "    <tr>\n",
       "      <th>...</th>\n",
       "      <td>...</td>\n",
       "      <td>...</td>\n",
       "      <td>...</td>\n",
       "      <td>...</td>\n",
       "      <td>...</td>\n",
       "      <td>...</td>\n",
       "    </tr>\n",
       "    <tr>\n",
       "      <th>3413</th>\n",
       "      <td>52373</td>\n",
       "      <td>True</td>\n",
       "      <td>36</td>\n",
       "      <td>True</td>\n",
       "      <td>phone</td>\n",
       "      <td>1585405142</td>\n",
       "    </tr>\n",
       "    <tr>\n",
       "      <th>3415</th>\n",
       "      <td>13688</td>\n",
       "      <td>True</td>\n",
       "      <td>66</td>\n",
       "      <td>True</td>\n",
       "      <td>computer</td>\n",
       "      <td>1585453923</td>\n",
       "    </tr>\n",
       "    <tr>\n",
       "      <th>3419</th>\n",
       "      <td>40643</td>\n",
       "      <td>True</td>\n",
       "      <td>22</td>\n",
       "      <td>True</td>\n",
       "      <td>phone</td>\n",
       "      <td>1585413473</td>\n",
       "    </tr>\n",
       "    <tr>\n",
       "      <th>3432</th>\n",
       "      <td>53774</td>\n",
       "      <td>True</td>\n",
       "      <td>50</td>\n",
       "      <td>True</td>\n",
       "      <td>phone</td>\n",
       "      <td>1585422804</td>\n",
       "    </tr>\n",
       "    <tr>\n",
       "      <th>3436</th>\n",
       "      <td>61221</td>\n",
       "      <td>True</td>\n",
       "      <td>64</td>\n",
       "      <td>True</td>\n",
       "      <td>phone</td>\n",
       "      <td>1585440218</td>\n",
       "    </tr>\n",
       "  </tbody>\n",
       "</table>\n",
       "<p>420 rows × 6 columns</p>\n",
       "</div>"
      ],
      "text/plain": [
       "      client  premium  age  success  platform        time\n",
       "23     74867     True   27    False  computer  1585452086\n",
       "24     49379     True   25    False  computer  1585433626\n",
       "25     88203     True   35     True     phone  1585450059\n",
       "30     32603     True   20     True  computer  1585473383\n",
       "52     53182     True   24     True     phone  1585406474\n",
       "...      ...      ...  ...      ...       ...         ...\n",
       "3413   52373     True   36     True     phone  1585405142\n",
       "3415   13688     True   66     True  computer  1585453923\n",
       "3419   40643     True   22     True     phone  1585413473\n",
       "3432   53774     True   50     True     phone  1585422804\n",
       "3436   61221     True   64     True     phone  1585440218\n",
       "\n",
       "[420 rows x 6 columns]"
      ]
     },
     "execution_count": 20,
     "metadata": {},
     "output_type": "execute_result"
    }
   ],
   "source": [
    "prem = user_logs.loc[user_logs['premium'] == True]\n",
    "prem"
   ]
  },
  {
   "cell_type": "code",
   "execution_count": 21,
   "metadata": {},
   "outputs": [
    {
     "data": {
      "text/plain": [
       "np.int64(69)"
      ]
     },
     "execution_count": 21,
     "metadata": {},
     "output_type": "execute_result"
    }
   ],
   "source": [
    "prem.age.max()"
   ]
  },
  {
   "cell_type": "code",
   "execution_count": 22,
   "metadata": {
    "id": "i7YCr7ITb1Hc"
   },
   "outputs": [
    {
     "data": {
      "text/plain": [
       "premium\n",
       "True    420\n",
       "Name: count, dtype: int64"
      ]
     },
     "execution_count": 22,
     "metadata": {},
     "output_type": "execute_result"
    }
   ],
   "source": [
    "prem.premium.value_counts()"
   ]
  },
  {
   "cell_type": "code",
   "execution_count": 23,
   "metadata": {
    "id": "5KM1YeK_b1Hd"
   },
   "outputs": [
    {
     "data": {
      "text/plain": [
       "'phone'"
      ]
     },
     "execution_count": 23,
     "metadata": {},
     "output_type": "execute_result"
    }
   ],
   "source": [
    "best_platform.idxmax()"
   ]
  },
  {
   "cell_type": "markdown",
   "metadata": {
    "id": "HderxwCPb1Hg"
   },
   "source": [
    "### Смотрим количество ответов премиум-клиентов на каждой платформе."
   ]
  },
  {
   "cell_type": "code",
   "execution_count": 24,
   "metadata": {
    "id": "BP2dzQa8b1Hh"
   },
   "outputs": [],
   "source": [
    "best_platform = prem.platform.value_counts()"
   ]
  },
  {
   "cell_type": "code",
   "execution_count": 25,
   "metadata": {
    "id": "e6zkgHq2b1Hi"
   },
   "outputs": [],
   "source": [
    "import matplotlib.pyplot as plt"
   ]
  },
  {
   "cell_type": "code",
   "execution_count": 26,
   "metadata": {
    "id": "ffstDEARb1H8"
   },
   "outputs": [
    {
     "data": {
      "image/png": "[encoded data removed]",
      "text/plain": [
       "<Figure size 640x480 with 1 Axes>"
      ]
     },
     "metadata": {},
     "output_type": "display_data"
    }
   ],
   "source": [
    "plt.barh(best_platform.index, best_platform.values)\n",
    "plt.show()"
   ]
  },
  {
   "cell_type": "markdown",
   "metadata": {
    "id": "kZ9jdG5pb1H-"
   },
   "source": [
    "### Проверяем у какой категории клиентов доля неуспешных ответов выше."
   ]
  },
  {
   "cell_type": "code",
   "execution_count": 27,
   "metadata": {
    "id": "9WNToBOMb1H_"
   },
   "outputs": [
    {
     "data": {
      "text/html": [
       "<div>\n",
       "<style scoped>\n",
       "    .dataframe tbody tr th:only-of-type {\n",
       "        vertical-align: middle;\n",
       "    }\n",
       "\n",
       "    .dataframe tbody tr th {\n",
       "        vertical-align: top;\n",
       "    }\n",
       "\n",
       "    .dataframe thead th {\n",
       "        text-align: right;\n",
       "    }\n",
       "</style>\n",
       "<table border=\"1\" class=\"dataframe\">\n",
       "  <thead>\n",
       "    <tr style=\"text-align: right;\">\n",
       "      <th></th>\n",
       "      <th>premium</th>\n",
       "      <th>success</th>\n",
       "      <th>client</th>\n",
       "    </tr>\n",
       "  </thead>\n",
       "  <tbody>\n",
       "    <tr>\n",
       "      <th>0</th>\n",
       "      <td>False</td>\n",
       "      <td>False</td>\n",
       "      <td>775</td>\n",
       "    </tr>\n",
       "    <tr>\n",
       "      <th>1</th>\n",
       "      <td>False</td>\n",
       "      <td>True</td>\n",
       "      <td>2244</td>\n",
       "    </tr>\n",
       "    <tr>\n",
       "      <th>2</th>\n",
       "      <td>True</td>\n",
       "      <td>False</td>\n",
       "      <td>117</td>\n",
       "    </tr>\n",
       "    <tr>\n",
       "      <th>3</th>\n",
       "      <td>True</td>\n",
       "      <td>True</td>\n",
       "      <td>303</td>\n",
       "    </tr>\n",
       "  </tbody>\n",
       "</table>\n",
       "</div>"
      ],
      "text/plain": [
       "   premium  success  client\n",
       "0    False    False     775\n",
       "1    False     True    2244\n",
       "2     True    False     117\n",
       "3     True     True     303"
      ]
     },
     "execution_count": 27,
     "metadata": {},
     "output_type": "execute_result"
    }
   ],
   "source": [
    "prem_success = user_logs.groupby(['premium', 'success'], as_index = False).agg({'client': 'count'})\n",
    "prem_success"
   ]
  },
  {
   "cell_type": "code",
   "execution_count": 28,
   "metadata": {
    "id": "yDpxg-DDb1H_"
   },
   "outputs": [
    {
     "data": {
      "text/html": [
       "<div>\n",
       "<style scoped>\n",
       "    .dataframe tbody tr th:only-of-type {\n",
       "        vertical-align: middle;\n",
       "    }\n",
       "\n",
       "    .dataframe tbody tr th {\n",
       "        vertical-align: top;\n",
       "    }\n",
       "\n",
       "    .dataframe thead th {\n",
       "        text-align: right;\n",
       "    }\n",
       "</style>\n",
       "<table border=\"1\" class=\"dataframe\">\n",
       "  <thead>\n",
       "    <tr style=\"text-align: right;\">\n",
       "      <th>success</th>\n",
       "      <th>False</th>\n",
       "      <th>True</th>\n",
       "    </tr>\n",
       "    <tr>\n",
       "      <th>premium</th>\n",
       "      <th></th>\n",
       "      <th></th>\n",
       "    </tr>\n",
       "  </thead>\n",
       "  <tbody>\n",
       "    <tr>\n",
       "      <th>False</th>\n",
       "      <td>775</td>\n",
       "      <td>2244</td>\n",
       "    </tr>\n",
       "    <tr>\n",
       "      <th>True</th>\n",
       "      <td>117</td>\n",
       "      <td>303</td>\n",
       "    </tr>\n",
       "  </tbody>\n",
       "</table>\n",
       "</div>"
      ],
      "text/plain": [
       "success  False  True \n",
       "premium              \n",
       "False      775   2244\n",
       "True       117    303"
      ]
     },
     "execution_count": 28,
     "metadata": {},
     "output_type": "execute_result"
    }
   ],
   "source": [
    "counts_success = prem_success.pivot(index='premium', columns='success', values='client')\n",
    "counts_success"
   ]
  },
  {
   "cell_type": "code",
   "execution_count": 29,
   "metadata": {
    "id": "vw9hZ0Knb1IA"
   },
   "outputs": [
    {
     "data": {
      "text/html": [
       "<div>\n",
       "<style scoped>\n",
       "    .dataframe tbody tr th:only-of-type {\n",
       "        vertical-align: middle;\n",
       "    }\n",
       "\n",
       "    .dataframe tbody tr th {\n",
       "        vertical-align: top;\n",
       "    }\n",
       "\n",
       "    .dataframe thead th {\n",
       "        text-align: right;\n",
       "    }\n",
       "</style>\n",
       "<table border=\"1\" class=\"dataframe\">\n",
       "  <thead>\n",
       "    <tr style=\"text-align: right;\">\n",
       "      <th>success</th>\n",
       "      <th>False</th>\n",
       "      <th>True</th>\n",
       "      <th>ratio</th>\n",
       "    </tr>\n",
       "    <tr>\n",
       "      <th>premium</th>\n",
       "      <th></th>\n",
       "      <th></th>\n",
       "      <th></th>\n",
       "    </tr>\n",
       "  </thead>\n",
       "  <tbody>\n",
       "    <tr>\n",
       "      <th>False</th>\n",
       "      <td>775</td>\n",
       "      <td>2244</td>\n",
       "      <td>2.895484</td>\n",
       "    </tr>\n",
       "    <tr>\n",
       "      <th>True</th>\n",
       "      <td>117</td>\n",
       "      <td>303</td>\n",
       "      <td>2.589744</td>\n",
       "    </tr>\n",
       "  </tbody>\n",
       "</table>\n",
       "</div>"
      ],
      "text/plain": [
       "success  False  True     ratio\n",
       "premium                       \n",
       "False      775  2244  2.895484\n",
       "True       117   303  2.589744"
      ]
     },
     "execution_count": 29,
     "metadata": {},
     "output_type": "execute_result"
    }
   ],
   "source": [
    "counts_success['ratio'] = counts_success[True] / counts_success[False]\n",
    "counts_success"
   ]
  },
  {
   "cell_type": "markdown",
   "metadata": {
    "id": "ZmEyctRlb1IC"
   },
   "source": [
    "### Для сравнения распределения возраста у премиум и обычных клиентов строим диаграммы."
   ]
  },
  {
   "cell_type": "code",
   "execution_count": 30,
   "metadata": {},
   "outputs": [
    {
     "data": {
      "text/html": [
       "<div>\n",
       "<style scoped>\n",
       "    .dataframe tbody tr th:only-of-type {\n",
       "        vertical-align: middle;\n",
       "    }\n",
       "\n",
       "    .dataframe tbody tr th {\n",
       "        vertical-align: top;\n",
       "    }\n",
       "\n",
       "    .dataframe thead th {\n",
       "        text-align: right;\n",
       "    }\n",
       "</style>\n",
       "<table border=\"1\" class=\"dataframe\">\n",
       "  <thead>\n",
       "    <tr style=\"text-align: right;\">\n",
       "      <th></th>\n",
       "      <th>client</th>\n",
       "      <th>premium</th>\n",
       "      <th>age</th>\n",
       "      <th>success</th>\n",
       "      <th>platform</th>\n",
       "      <th>time</th>\n",
       "    </tr>\n",
       "  </thead>\n",
       "  <tbody>\n",
       "    <tr>\n",
       "      <th>0</th>\n",
       "      <td>46346</td>\n",
       "      <td>False</td>\n",
       "      <td>58</td>\n",
       "      <td>True</td>\n",
       "      <td>phone</td>\n",
       "      <td>1585452839</td>\n",
       "    </tr>\n",
       "    <tr>\n",
       "      <th>1</th>\n",
       "      <td>4391</td>\n",
       "      <td>False</td>\n",
       "      <td>55</td>\n",
       "      <td>False</td>\n",
       "      <td>phone</td>\n",
       "      <td>1585409861</td>\n",
       "    </tr>\n",
       "    <tr>\n",
       "      <th>2</th>\n",
       "      <td>27372</td>\n",
       "      <td>False</td>\n",
       "      <td>64</td>\n",
       "      <td>False</td>\n",
       "      <td>phone</td>\n",
       "      <td>1585446018</td>\n",
       "    </tr>\n",
       "    <tr>\n",
       "      <th>3</th>\n",
       "      <td>11989</td>\n",
       "      <td>False</td>\n",
       "      <td>44</td>\n",
       "      <td>True</td>\n",
       "      <td>computer</td>\n",
       "      <td>1585403698</td>\n",
       "    </tr>\n",
       "    <tr>\n",
       "      <th>4</th>\n",
       "      <td>60664</td>\n",
       "      <td>False</td>\n",
       "      <td>49</td>\n",
       "      <td>True</td>\n",
       "      <td>phone</td>\n",
       "      <td>1585406918</td>\n",
       "    </tr>\n",
       "    <tr>\n",
       "      <th>...</th>\n",
       "      <td>...</td>\n",
       "      <td>...</td>\n",
       "      <td>...</td>\n",
       "      <td>...</td>\n",
       "      <td>...</td>\n",
       "      <td>...</td>\n",
       "    </tr>\n",
       "    <tr>\n",
       "      <th>3433</th>\n",
       "      <td>27470</td>\n",
       "      <td>False</td>\n",
       "      <td>40</td>\n",
       "      <td>False</td>\n",
       "      <td>computer</td>\n",
       "      <td>1585443046</td>\n",
       "    </tr>\n",
       "    <tr>\n",
       "      <th>3434</th>\n",
       "      <td>19411</td>\n",
       "      <td>False</td>\n",
       "      <td>29</td>\n",
       "      <td>True</td>\n",
       "      <td>phone</td>\n",
       "      <td>1585400902</td>\n",
       "    </tr>\n",
       "    <tr>\n",
       "      <th>3435</th>\n",
       "      <td>61579</td>\n",
       "      <td>False</td>\n",
       "      <td>50</td>\n",
       "      <td>True</td>\n",
       "      <td>phone</td>\n",
       "      <td>1585436158</td>\n",
       "    </tr>\n",
       "    <tr>\n",
       "      <th>3437</th>\n",
       "      <td>29863</td>\n",
       "      <td>False</td>\n",
       "      <td>46</td>\n",
       "      <td>True</td>\n",
       "      <td>tablet</td>\n",
       "      <td>1585443437</td>\n",
       "    </tr>\n",
       "    <tr>\n",
       "      <th>3438</th>\n",
       "      <td>78499</td>\n",
       "      <td>False</td>\n",
       "      <td>36</td>\n",
       "      <td>False</td>\n",
       "      <td>phone</td>\n",
       "      <td>1585425483</td>\n",
       "    </tr>\n",
       "  </tbody>\n",
       "</table>\n",
       "<p>3019 rows × 6 columns</p>\n",
       "</div>"
      ],
      "text/plain": [
       "      client  premium  age  success  platform        time\n",
       "0      46346    False   58     True     phone  1585452839\n",
       "1       4391    False   55    False     phone  1585409861\n",
       "2      27372    False   64    False     phone  1585446018\n",
       "3      11989    False   44     True  computer  1585403698\n",
       "4      60664    False   49     True     phone  1585406918\n",
       "...      ...      ...  ...      ...       ...         ...\n",
       "3433   27470    False   40    False  computer  1585443046\n",
       "3434   19411    False   29     True     phone  1585400902\n",
       "3435   61579    False   50     True     phone  1585436158\n",
       "3437   29863    False   46     True    tablet  1585443437\n",
       "3438   78499    False   36    False     phone  1585425483\n",
       "\n",
       "[3019 rows x 6 columns]"
      ]
     },
     "execution_count": 30,
     "metadata": {},
     "output_type": "execute_result"
    }
   ],
   "source": [
    "not_prem = user_logs.loc[user_logs['premium'] == False]\n",
    "not_prem"
   ]
  },
  {
   "cell_type": "code",
   "execution_count": 31,
   "metadata": {
    "id": "ZBw6o6_Jb1IC",
    "scrolled": true
   },
   "outputs": [
    {
     "data": {
      "image/png": "[encoded data removed]",
      "text/plain": [
       "<Figure size 640x480 with 2 Axes>"
      ]
     },
     "metadata": {},
     "output_type": "display_data"
    }
   ],
   "source": [
    "plt.subplot(2, 1, 1)\n",
    "plt.hist(user_logs.query('premium == True').age)\n",
    "plt.title(\"Количество клиентов по возрасту\") \n",
    "plt.ylabel(\"премиум\") \n",
    "plt.grid(True)           \n",
    "\n",
    "plt.subplot(2, 1, 2)\n",
    "plt.hist(user_logs.query('premium == False').age)\n",
    "plt.xlabel(\"возраст\")  \n",
    "plt.ylabel(\"обычные\") \n",
    "plt.grid(True)    "
   ]
  },
  {
   "cell_type": "markdown",
   "metadata": {
    "id": "W1tX2p4bb1IE"
   },
   "source": [
    "### Строим график, отражающий распределение количества успешных ответов на пользователя."
   ]
  },
  {
   "cell_type": "code",
   "execution_count": 33,
   "metadata": {
    "id": "g8JlKpoZb1IF"
   },
   "outputs": [
    {
     "data": {
      "text/html": [
       "<div>\n",
       "<style scoped>\n",
       "    .dataframe tbody tr th:only-of-type {\n",
       "        vertical-align: middle;\n",
       "    }\n",
       "\n",
       "    .dataframe tbody tr th {\n",
       "        vertical-align: top;\n",
       "    }\n",
       "\n",
       "    .dataframe thead th {\n",
       "        text-align: right;\n",
       "    }\n",
       "</style>\n",
       "<table border=\"1\" class=\"dataframe\">\n",
       "  <thead>\n",
       "    <tr style=\"text-align: right;\">\n",
       "      <th></th>\n",
       "      <th>client</th>\n",
       "      <th>premium</th>\n",
       "      <th>age</th>\n",
       "      <th>success</th>\n",
       "      <th>platform</th>\n",
       "      <th>time</th>\n",
       "    </tr>\n",
       "  </thead>\n",
       "  <tbody>\n",
       "    <tr>\n",
       "      <th>0</th>\n",
       "      <td>46346</td>\n",
       "      <td>False</td>\n",
       "      <td>58</td>\n",
       "      <td>True</td>\n",
       "      <td>phone</td>\n",
       "      <td>1585452839</td>\n",
       "    </tr>\n",
       "    <tr>\n",
       "      <th>3</th>\n",
       "      <td>11989</td>\n",
       "      <td>False</td>\n",
       "      <td>44</td>\n",
       "      <td>True</td>\n",
       "      <td>computer</td>\n",
       "      <td>1585403698</td>\n",
       "    </tr>\n",
       "    <tr>\n",
       "      <th>4</th>\n",
       "      <td>60664</td>\n",
       "      <td>False</td>\n",
       "      <td>49</td>\n",
       "      <td>True</td>\n",
       "      <td>phone</td>\n",
       "      <td>1585406918</td>\n",
       "    </tr>\n",
       "    <tr>\n",
       "      <th>5</th>\n",
       "      <td>78605</td>\n",
       "      <td>False</td>\n",
       "      <td>36</td>\n",
       "      <td>True</td>\n",
       "      <td>tablet</td>\n",
       "      <td>1585430330</td>\n",
       "    </tr>\n",
       "    <tr>\n",
       "      <th>8</th>\n",
       "      <td>77451</td>\n",
       "      <td>False</td>\n",
       "      <td>49</td>\n",
       "      <td>True</td>\n",
       "      <td>phone</td>\n",
       "      <td>1585444298</td>\n",
       "    </tr>\n",
       "    <tr>\n",
       "      <th>...</th>\n",
       "      <td>...</td>\n",
       "      <td>...</td>\n",
       "      <td>...</td>\n",
       "      <td>...</td>\n",
       "      <td>...</td>\n",
       "      <td>...</td>\n",
       "    </tr>\n",
       "    <tr>\n",
       "      <th>3432</th>\n",
       "      <td>53774</td>\n",
       "      <td>True</td>\n",
       "      <td>50</td>\n",
       "      <td>True</td>\n",
       "      <td>phone</td>\n",
       "      <td>1585422804</td>\n",
       "    </tr>\n",
       "    <tr>\n",
       "      <th>3434</th>\n",
       "      <td>19411</td>\n",
       "      <td>False</td>\n",
       "      <td>29</td>\n",
       "      <td>True</td>\n",
       "      <td>phone</td>\n",
       "      <td>1585400902</td>\n",
       "    </tr>\n",
       "    <tr>\n",
       "      <th>3435</th>\n",
       "      <td>61579</td>\n",
       "      <td>False</td>\n",
       "      <td>50</td>\n",
       "      <td>True</td>\n",
       "      <td>phone</td>\n",
       "      <td>1585436158</td>\n",
       "    </tr>\n",
       "    <tr>\n",
       "      <th>3436</th>\n",
       "      <td>61221</td>\n",
       "      <td>True</td>\n",
       "      <td>64</td>\n",
       "      <td>True</td>\n",
       "      <td>phone</td>\n",
       "      <td>1585440218</td>\n",
       "    </tr>\n",
       "    <tr>\n",
       "      <th>3437</th>\n",
       "      <td>29863</td>\n",
       "      <td>False</td>\n",
       "      <td>46</td>\n",
       "      <td>True</td>\n",
       "      <td>tablet</td>\n",
       "      <td>1585443437</td>\n",
       "    </tr>\n",
       "  </tbody>\n",
       "</table>\n",
       "<p>2547 rows × 6 columns</p>\n",
       "</div>"
      ],
      "text/plain": [
       "      client  premium  age  success  platform        time\n",
       "0      46346    False   58     True     phone  1585452839\n",
       "3      11989    False   44     True  computer  1585403698\n",
       "4      60664    False   49     True     phone  1585406918\n",
       "5      78605    False   36     True    tablet  1585430330\n",
       "8      77451    False   49     True     phone  1585444298\n",
       "...      ...      ...  ...      ...       ...         ...\n",
       "3432   53774     True   50     True     phone  1585422804\n",
       "3434   19411    False   29     True     phone  1585400902\n",
       "3435   61579    False   50     True     phone  1585436158\n",
       "3436   61221     True   64     True     phone  1585440218\n",
       "3437   29863    False   46     True    tablet  1585443437\n",
       "\n",
       "[2547 rows x 6 columns]"
      ]
     },
     "execution_count": 33,
     "metadata": {},
     "output_type": "execute_result"
    }
   ],
   "source": [
    "true_success = user_logs.query('success == True')\n",
    "true_success "
   ]
  },
  {
   "cell_type": "code",
   "execution_count": 34,
   "metadata": {
    "id": "QPg7HuyNb1IR"
   },
   "outputs": [
    {
     "data": {
      "text/plain": [
       "client\n",
       "61473    41\n",
       "92584    41\n",
       "28719    41\n",
       "78349    41\n",
       "61468    41\n",
       "         ..\n",
       "32603     1\n",
       "82505     1\n",
       "37237     1\n",
       "28007     1\n",
       "35036     1\n",
       "Name: count, Length: 2104, dtype: int64"
      ]
     },
     "execution_count": 34,
     "metadata": {},
     "output_type": "execute_result"
    }
   ],
   "source": [
    "count_true = true_success.client.value_counts()\n",
    "count_true"
   ]
  },
  {
   "cell_type": "code",
   "execution_count": 35,
   "metadata": {
    "id": "vvfi41owb1IR"
   },
   "outputs": [],
   "source": [
    "count_true = count_true.rename('client')"
   ]
  },
  {
   "cell_type": "code",
   "execution_count": 36,
   "metadata": {
    "id": "CenOUotkb1IS"
   },
   "outputs": [],
   "source": [
    "import seaborn as sns"
   ]
  },
  {
   "cell_type": "code",
   "execution_count": 37,
   "metadata": {
    "id": "FyQMNXIub1IS"
   },
   "outputs": [
    {
     "data": {
      "image/png": "[encoded data removed]",
      "text/plain": [
       "<Figure size 800x800 with 1 Axes>"
      ]
     },
     "metadata": {},
     "output_type": "display_data"
    }
   ],
   "source": [
    "plt.figure(figsize=(8, 8))\n",
    "sns.countplot(x = count_true)\n",
    "plt.show()"
   ]
  },
  {
   "cell_type": "markdown",
   "metadata": {
    "id": "ZMCchxBJb1IU"
   },
   "source": [
    "### Смотрим, клиенты какого возраста дали наибольшее количество успешных ответов на компьютере."
   ]
  },
  {
   "cell_type": "code",
   "execution_count": 38,
   "metadata": {
    "id": "KEgLZuXLb1IX"
   },
   "outputs": [
    {
     "data": {
      "text/html": [
       "<div>\n",
       "<style scoped>\n",
       "    .dataframe tbody tr th:only-of-type {\n",
       "        vertical-align: middle;\n",
       "    }\n",
       "\n",
       "    .dataframe tbody tr th {\n",
       "        vertical-align: top;\n",
       "    }\n",
       "\n",
       "    .dataframe thead th {\n",
       "        text-align: right;\n",
       "    }\n",
       "</style>\n",
       "<table border=\"1\" class=\"dataframe\">\n",
       "  <thead>\n",
       "    <tr style=\"text-align: right;\">\n",
       "      <th></th>\n",
       "      <th>client</th>\n",
       "      <th>premium</th>\n",
       "      <th>age</th>\n",
       "      <th>success</th>\n",
       "      <th>platform</th>\n",
       "      <th>time</th>\n",
       "    </tr>\n",
       "  </thead>\n",
       "  <tbody>\n",
       "    <tr>\n",
       "      <th>3</th>\n",
       "      <td>11989</td>\n",
       "      <td>False</td>\n",
       "      <td>44</td>\n",
       "      <td>True</td>\n",
       "      <td>computer</td>\n",
       "      <td>1585403698</td>\n",
       "    </tr>\n",
       "    <tr>\n",
       "      <th>12</th>\n",
       "      <td>32406</td>\n",
       "      <td>False</td>\n",
       "      <td>24</td>\n",
       "      <td>True</td>\n",
       "      <td>computer</td>\n",
       "      <td>1585479382</td>\n",
       "    </tr>\n",
       "    <tr>\n",
       "      <th>14</th>\n",
       "      <td>62404</td>\n",
       "      <td>False</td>\n",
       "      <td>40</td>\n",
       "      <td>True</td>\n",
       "      <td>computer</td>\n",
       "      <td>1585430097</td>\n",
       "    </tr>\n",
       "    <tr>\n",
       "      <th>20</th>\n",
       "      <td>68848</td>\n",
       "      <td>False</td>\n",
       "      <td>35</td>\n",
       "      <td>True</td>\n",
       "      <td>computer</td>\n",
       "      <td>1585440553</td>\n",
       "    </tr>\n",
       "    <tr>\n",
       "      <th>26</th>\n",
       "      <td>49675</td>\n",
       "      <td>False</td>\n",
       "      <td>48</td>\n",
       "      <td>True</td>\n",
       "      <td>computer</td>\n",
       "      <td>1585402108</td>\n",
       "    </tr>\n",
       "    <tr>\n",
       "      <th>...</th>\n",
       "      <td>...</td>\n",
       "      <td>...</td>\n",
       "      <td>...</td>\n",
       "      <td>...</td>\n",
       "      <td>...</td>\n",
       "      <td>...</td>\n",
       "    </tr>\n",
       "    <tr>\n",
       "      <th>3414</th>\n",
       "      <td>93718</td>\n",
       "      <td>False</td>\n",
       "      <td>63</td>\n",
       "      <td>True</td>\n",
       "      <td>computer</td>\n",
       "      <td>1585466349</td>\n",
       "    </tr>\n",
       "    <tr>\n",
       "      <th>3415</th>\n",
       "      <td>13688</td>\n",
       "      <td>True</td>\n",
       "      <td>66</td>\n",
       "      <td>True</td>\n",
       "      <td>computer</td>\n",
       "      <td>1585453923</td>\n",
       "    </tr>\n",
       "    <tr>\n",
       "      <th>3417</th>\n",
       "      <td>68348</td>\n",
       "      <td>False</td>\n",
       "      <td>69</td>\n",
       "      <td>True</td>\n",
       "      <td>computer</td>\n",
       "      <td>1585456739</td>\n",
       "    </tr>\n",
       "    <tr>\n",
       "      <th>3427</th>\n",
       "      <td>9450</td>\n",
       "      <td>False</td>\n",
       "      <td>34</td>\n",
       "      <td>True</td>\n",
       "      <td>computer</td>\n",
       "      <td>1585446079</td>\n",
       "    </tr>\n",
       "    <tr>\n",
       "      <th>3430</th>\n",
       "      <td>61851</td>\n",
       "      <td>False</td>\n",
       "      <td>31</td>\n",
       "      <td>True</td>\n",
       "      <td>computer</td>\n",
       "      <td>1585473042</td>\n",
       "    </tr>\n",
       "  </tbody>\n",
       "</table>\n",
       "<p>843 rows × 6 columns</p>\n",
       "</div>"
      ],
      "text/plain": [
       "      client  premium  age  success  platform        time\n",
       "3      11989    False   44     True  computer  1585403698\n",
       "12     32406    False   24     True  computer  1585479382\n",
       "14     62404    False   40     True  computer  1585430097\n",
       "20     68848    False   35     True  computer  1585440553\n",
       "26     49675    False   48     True  computer  1585402108\n",
       "...      ...      ...  ...      ...       ...         ...\n",
       "3414   93718    False   63     True  computer  1585466349\n",
       "3415   13688     True   66     True  computer  1585453923\n",
       "3417   68348    False   69     True  computer  1585456739\n",
       "3427    9450    False   34     True  computer  1585446079\n",
       "3430   61851    False   31     True  computer  1585473042\n",
       "\n",
       "[843 rows x 6 columns]"
      ]
     },
     "execution_count": 38,
     "metadata": {},
     "output_type": "execute_result"
    }
   ],
   "source": [
    "true_success = user_logs.query('success == True')\n",
    "true_computer = true_success.query('platform == \"computer\"')\n",
    "true_computer"
   ]
  },
  {
   "cell_type": "code",
   "execution_count": 39,
   "metadata": {
    "id": "LjQPejivb1IX"
   },
   "outputs": [
    {
     "data": {
      "image/png": "[encoded data removed]",
      "text/plain": [
       "<Figure size 1200x800 with 1 Axes>"
      ]
     },
     "metadata": {},
     "output_type": "display_data"
    }
   ],
   "source": [
    "plt.figure(figsize=(12, 8))\n",
    "sns.countplot(data = true_computer, x = 'age')\n",
    "plt.show()"
   ]
  }
 ],
 "metadata": {
  "colab": {
   "provenance": []
  },
  "kernelspec": {
   "display_name": "Python 3 (ipykernel)",
   "language": "python",
   "name": "python3"
  },
  "language_info": {
   "codemirror_mode": {
    "name": "ipython",
    "version": 3
   },
   "file_extension": ".py",
   "mimetype": "text/x-python",
   "name": "python",
   "nbconvert_exporter": "python",
   "pygments_lexer": "ipython3",
   "version": "3.13.4"
  }
 },
 "nbformat": 4,
 "nbformat_minor": 4
}
